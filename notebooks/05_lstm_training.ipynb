{
 "cells": [
  {
   "cell_type": "code",
   "execution_count": 64,
   "id": "5f4f86ff",
   "metadata": {},
   "outputs": [],
   "source": [
    "import pandas as pd\n",
    "import numpy as np\n",
    "import tensorflow as tf\n",
    "from tensorflow import keras\n",
    "from tensorflow.keras import layers\n",
    "from sklearn.metrics import mean_squared_error, r2_score\n",
    "import os\n",
    "import matplotlib.pyplot as plt\n",
    "from pathlib import Path"
   ]
  },
  {
   "cell_type": "markdown",
   "id": "6de081fd",
   "metadata": {},
   "source": [
    "Set random seed for reproducibility"
   ]
  },
  {
   "cell_type": "code",
   "execution_count": 65,
   "id": "667dbb24",
   "metadata": {},
   "outputs": [],
   "source": [
    "np.random.seed(42)\n",
    "tf.random.set_seed(42)"
   ]
  },
  {
   "cell_type": "markdown",
   "id": "8e00e255",
   "metadata": {},
   "source": [
    "Load processed station data and combine"
   ]
  },
  {
   "cell_type": "code",
   "execution_count": 66,
   "id": "15d75022",
   "metadata": {},
   "outputs": [],
   "source": [
    "station1 = pd.read_parquet('../data/processed/station1_processed.parquet')\n",
    "station2 = pd.read_parquet('../data/processed/station2_processed.parquet')\n",
    "\n",
    "data = pd.concat([station1, station2], ignore_index=True).sort_values('model_output_valid_time')"
   ]
  },
  {
   "cell_type": "markdown",
   "id": "a70d1431",
   "metadata": {},
   "source": [
    "Normalize and define features"
   ]
  },
  {
   "cell_type": "code",
   "execution_count": 67,
   "id": "6a65af80",
   "metadata": {},
   "outputs": [],
   "source": [
    "data['lead_time'] = data['lead_time'] / 18.0\n",
    "\n",
    "from sklearn.preprocessing import MinMaxScaler\n",
    "scaler = MinMaxScaler()\n",
    "\n",
    "data[['NWM_streamflow', 'USGS_streamflow']] = scaler.fit_transform(data[['NWM_streamflow', 'USGS_streamflow']])\n",
    "\n",
    "FEATURES = ['NWM_streamflow', 'lead_time']\n",
    "TARGET = 'USGS_streamflow'"
   ]
  },
  {
   "cell_type": "markdown",
   "id": "e85229e5",
   "metadata": {},
   "source": [
    "Split the data"
   ]
  },
  {
   "cell_type": "code",
   "execution_count": 68,
   "id": "a8c91440",
   "metadata": {},
   "outputs": [
    {
     "name": "stdout",
     "output_type": "stream",
     "text": [
      "Samples:\n",
      "  Train: 1790711\n",
      "  Test:  726652\n",
      "  Total: 2517363\n",
      "\n",
      "Features per time step: 2\n",
      "Time steps per input (sequence length): 1\n"
     ]
    }
   ],
   "source": [
    "train_data = data[data['model_output_valid_time'] < '2022-10-01']\n",
    "test_data  = data[data['model_output_valid_time'] >= '2022-10-01']\n",
    "\n",
    "X_train = train_data[FEATURES].values\n",
    "y_train = train_data[TARGET].values\n",
    "X_test = test_data[FEATURES].values\n",
    "y_test = test_data[TARGET].values\n",
    "\n",
    "X_train = X_train.reshape((X_train.shape[0], 1, X_train.shape[1]))\n",
    "X_test = X_test.reshape((X_test.shape[0], 1, X_test.shape[1]))\n",
    "\n",
    "mask = (\n",
    "    ~np.isnan(X_train).any(axis=(1, 2)) &\n",
    "    ~np.isinf(X_train).any(axis=(1, 2)) &\n",
    "    ~np.isnan(y_train) &\n",
    "    ~np.isinf(y_train)\n",
    ")\n",
    "X_train = X_train[mask]\n",
    "y_train = y_train[mask]\n",
    "\n",
    "print(\"Samples:\")\n",
    "print(f\"  Train: {X_train.shape[0]}\")\n",
    "print(f\"  Test:  {X_test.shape[0]}\")\n",
    "print(f\"  Total: {X_train.shape[0] + X_test.shape[0]}\")\n",
    "print()\n",
    "\n",
    "print(\"Features per time step:\", X_train.shape[2])\n",
    "print(\"Time steps per input (sequence length):\", X_train.shape[1])"
   ]
  },
  {
   "cell_type": "markdown",
   "id": "3c2e2361",
   "metadata": {},
   "source": [
    "Define hyperparameters and build model"
   ]
  },
  {
   "cell_type": "code",
   "execution_count": 69,
   "id": "e11a0756",
   "metadata": {},
   "outputs": [
    {
     "data": {
      "text/html": [
       "<pre style=\"white-space:pre;overflow-x:auto;line-height:normal;font-family:Menlo,'DejaVu Sans Mono',consolas,'Courier New',monospace\"><span style=\"font-weight: bold\">Model: \"sequential_10\"</span>\n",
       "</pre>\n"
      ],
      "text/plain": [
       "\u001b[1mModel: \"sequential_10\"\u001b[0m\n"
      ]
     },
     "metadata": {},
     "output_type": "display_data"
    },
    {
     "data": {
      "text/html": [
       "<pre style=\"white-space:pre;overflow-x:auto;line-height:normal;font-family:Menlo,'DejaVu Sans Mono',consolas,'Courier New',monospace\">┏━━━━━━━━━━━━━━━━━━━━━━━━━━━━━━━━━┳━━━━━━━━━━━━━━━━━━━━━━━━┳━━━━━━━━━━━━━━━┓\n",
       "┃<span style=\"font-weight: bold\"> Layer (type)                    </span>┃<span style=\"font-weight: bold\"> Output Shape           </span>┃<span style=\"font-weight: bold\">       Param # </span>┃\n",
       "┡━━━━━━━━━━━━━━━━━━━━━━━━━━━━━━━━━╇━━━━━━━━━━━━━━━━━━━━━━━━╇━━━━━━━━━━━━━━━┩\n",
       "│ lstm_28 (<span style=\"color: #0087ff; text-decoration-color: #0087ff\">LSTM</span>)                  │ (<span style=\"color: #00d7ff; text-decoration-color: #00d7ff\">None</span>, <span style=\"color: #00af00; text-decoration-color: #00af00\">64</span>)             │        <span style=\"color: #00af00; text-decoration-color: #00af00\">17,152</span> │\n",
       "├─────────────────────────────────┼────────────────────────┼───────────────┤\n",
       "│ dense_10 (<span style=\"color: #0087ff; text-decoration-color: #0087ff\">Dense</span>)                │ (<span style=\"color: #00d7ff; text-decoration-color: #00d7ff\">None</span>, <span style=\"color: #00af00; text-decoration-color: #00af00\">1</span>)              │            <span style=\"color: #00af00; text-decoration-color: #00af00\">65</span> │\n",
       "└─────────────────────────────────┴────────────────────────┴───────────────┘\n",
       "</pre>\n"
      ],
      "text/plain": [
       "┏━━━━━━━━━━━━━━━━━━━━━━━━━━━━━━━━━┳━━━━━━━━━━━━━━━━━━━━━━━━┳━━━━━━━━━━━━━━━┓\n",
       "┃\u001b[1m \u001b[0m\u001b[1mLayer (type)                   \u001b[0m\u001b[1m \u001b[0m┃\u001b[1m \u001b[0m\u001b[1mOutput Shape          \u001b[0m\u001b[1m \u001b[0m┃\u001b[1m \u001b[0m\u001b[1m      Param #\u001b[0m\u001b[1m \u001b[0m┃\n",
       "┡━━━━━━━━━━━━━━━━━━━━━━━━━━━━━━━━━╇━━━━━━━━━━━━━━━━━━━━━━━━╇━━━━━━━━━━━━━━━┩\n",
       "│ lstm_28 (\u001b[38;5;33mLSTM\u001b[0m)                  │ (\u001b[38;5;45mNone\u001b[0m, \u001b[38;5;34m64\u001b[0m)             │        \u001b[38;5;34m17,152\u001b[0m │\n",
       "├─────────────────────────────────┼────────────────────────┼───────────────┤\n",
       "│ dense_10 (\u001b[38;5;33mDense\u001b[0m)                │ (\u001b[38;5;45mNone\u001b[0m, \u001b[38;5;34m1\u001b[0m)              │            \u001b[38;5;34m65\u001b[0m │\n",
       "└─────────────────────────────────┴────────────────────────┴───────────────┘\n"
      ]
     },
     "metadata": {},
     "output_type": "display_data"
    },
    {
     "data": {
      "text/html": [
       "<pre style=\"white-space:pre;overflow-x:auto;line-height:normal;font-family:Menlo,'DejaVu Sans Mono',consolas,'Courier New',monospace\"><span style=\"font-weight: bold\"> Total params: </span><span style=\"color: #00af00; text-decoration-color: #00af00\">17,217</span> (67.25 KB)\n",
       "</pre>\n"
      ],
      "text/plain": [
       "\u001b[1m Total params: \u001b[0m\u001b[38;5;34m17,217\u001b[0m (67.25 KB)\n"
      ]
     },
     "metadata": {},
     "output_type": "display_data"
    },
    {
     "data": {
      "text/html": [
       "<pre style=\"white-space:pre;overflow-x:auto;line-height:normal;font-family:Menlo,'DejaVu Sans Mono',consolas,'Courier New',monospace\"><span style=\"font-weight: bold\"> Trainable params: </span><span style=\"color: #00af00; text-decoration-color: #00af00\">17,217</span> (67.25 KB)\n",
       "</pre>\n"
      ],
      "text/plain": [
       "\u001b[1m Trainable params: \u001b[0m\u001b[38;5;34m17,217\u001b[0m (67.25 KB)\n"
      ]
     },
     "metadata": {},
     "output_type": "display_data"
    },
    {
     "data": {
      "text/html": [
       "<pre style=\"white-space:pre;overflow-x:auto;line-height:normal;font-family:Menlo,'DejaVu Sans Mono',consolas,'Courier New',monospace\"><span style=\"font-weight: bold\"> Non-trainable params: </span><span style=\"color: #00af00; text-decoration-color: #00af00\">0</span> (0.00 B)\n",
       "</pre>\n"
      ],
      "text/plain": [
       "\u001b[1m Non-trainable params: \u001b[0m\u001b[38;5;34m0\u001b[0m (0.00 B)\n"
      ]
     },
     "metadata": {},
     "output_type": "display_data"
    }
   ],
   "source": [
    "EPOCHS = 100\n",
    "BATCH_SIZE = 256\n",
    "LEARNING_RATE = 1e-4\n",
    "LSTM_UNITS = 64          \n",
    "NUM_LAYERS = 1           \n",
    "DROPOUT = 0.1 \n",
    "\n",
    "def build_model(input_shape):\n",
    "    model = keras.Sequential()\n",
    "    model.add(layers.Input(shape=input_shape))\n",
    "    model.add(layers.LSTM(LSTM_UNITS))\n",
    "    model.add(layers.Dense(1))\n",
    "    \n",
    "    optimizer = keras.optimizers.Adam(learning_rate=LEARNING_RATE, clipnorm=1.0)\n",
    "    model.compile(optimizer=optimizer, loss='mse')\n",
    "    return model\n",
    "\n",
    "model = build_model((X_train.shape[1], X_train.shape[2]))\n",
    "model.summary()"
   ]
  },
  {
   "cell_type": "markdown",
   "id": "ed766441",
   "metadata": {},
   "source": [
    "Create directory to save model"
   ]
  },
  {
   "cell_type": "code",
   "execution_count": 70,
   "id": "d2b19e96",
   "metadata": {},
   "outputs": [],
   "source": [
    "model_dir = Path('./saved_models')\n",
    "model_dir.mkdir(exist_ok=True)\n",
    "\n",
    "callbacks = [\n",
    "    keras.callbacks.ModelCheckpoint(\n",
    "        filepath=model_dir / 'streamflow_model.keras',\n",
    "        save_best_only=True,\n",
    "        monitor='val_loss',\n",
    "        mode='min'\n",
    "    ),\n",
    "    keras.callbacks.ReduceLROnPlateau(\n",
    "        monitor='val_loss',\n",
    "        factor=0.5,\n",
    "        patience=5,\n",
    "        verbose=1\n",
    "    ),\n",
    "    keras.callbacks.EarlyStopping(\n",
    "        patience=15,\n",
    "        restore_best_weights=True\n",
    "    )\n",
    "]"
   ]
  },
  {
   "cell_type": "markdown",
   "id": "7c77f93e",
   "metadata": {},
   "source": [
    "Train the model"
   ]
  },
  {
   "cell_type": "code",
   "execution_count": 71,
   "id": "3a186a34",
   "metadata": {},
   "outputs": [
    {
     "name": "stdout",
     "output_type": "stream",
     "text": [
      "Epoch 1/100\n",
      "\u001b[1m6296/6296\u001b[0m \u001b[32m━━━━━━━━━━━━━━━━━━━━\u001b[0m\u001b[37m\u001b[0m \u001b[1m11s\u001b[0m 2ms/step - loss: 0.0075 - val_loss: 0.0020 - learning_rate: 1.0000e-04\n",
      "Epoch 2/100\n",
      "\u001b[1m6296/6296\u001b[0m \u001b[32m━━━━━━━━━━━━━━━━━━━━\u001b[0m\u001b[37m\u001b[0m \u001b[1m10s\u001b[0m 2ms/step - loss: 0.0074 - val_loss: 0.0020 - learning_rate: 1.0000e-04\n",
      "Epoch 3/100\n",
      "\u001b[1m6296/6296\u001b[0m \u001b[32m━━━━━━━━━━━━━━━━━━━━\u001b[0m\u001b[37m\u001b[0m \u001b[1m10s\u001b[0m 2ms/step - loss: 0.0073 - val_loss: 0.0021 - learning_rate: 1.0000e-04\n",
      "Epoch 4/100\n",
      "\u001b[1m6296/6296\u001b[0m \u001b[32m━━━━━━━━━━━━━━━━━━━━\u001b[0m\u001b[37m\u001b[0m \u001b[1m10s\u001b[0m 2ms/step - loss: 0.0073 - val_loss: 0.0022 - learning_rate: 1.0000e-04\n",
      "Epoch 5/100\n",
      "\u001b[1m6296/6296\u001b[0m \u001b[32m━━━━━━━━━━━━━━━━━━━━\u001b[0m\u001b[37m\u001b[0m \u001b[1m10s\u001b[0m 2ms/step - loss: 0.0072 - val_loss: 0.0023 - learning_rate: 1.0000e-04\n",
      "Epoch 6/100\n",
      "\u001b[1m6262/6296\u001b[0m \u001b[32m━━━━━━━━━━━━━━━━━━━\u001b[0m\u001b[37m━\u001b[0m \u001b[1m0s\u001b[0m 1ms/step - loss: 0.0072\n",
      "Epoch 6: ReduceLROnPlateau reducing learning rate to 4.999999873689376e-05.\n",
      "\u001b[1m6296/6296\u001b[0m \u001b[32m━━━━━━━━━━━━━━━━━━━━\u001b[0m\u001b[37m\u001b[0m \u001b[1m10s\u001b[0m 2ms/step - loss: 0.0072 - val_loss: 0.0025 - learning_rate: 1.0000e-04\n",
      "Epoch 7/100\n",
      "\u001b[1m6296/6296\u001b[0m \u001b[32m━━━━━━━━━━━━━━━━━━━━\u001b[0m\u001b[37m\u001b[0m \u001b[1m10s\u001b[0m 2ms/step - loss: 0.0071 - val_loss: 0.0025 - learning_rate: 5.0000e-05\n",
      "Epoch 8/100\n",
      "\u001b[1m6296/6296\u001b[0m \u001b[32m━━━━━━━━━━━━━━━━━━━━\u001b[0m\u001b[37m\u001b[0m \u001b[1m10s\u001b[0m 2ms/step - loss: 0.0071 - val_loss: 0.0025 - learning_rate: 5.0000e-05\n",
      "Epoch 9/100\n",
      "\u001b[1m6296/6296\u001b[0m \u001b[32m━━━━━━━━━━━━━━━━━━━━\u001b[0m\u001b[37m\u001b[0m \u001b[1m12s\u001b[0m 2ms/step - loss: 0.0071 - val_loss: 0.0026 - learning_rate: 5.0000e-05\n",
      "Epoch 10/100\n",
      "\u001b[1m6296/6296\u001b[0m \u001b[32m━━━━━━━━━━━━━━━━━━━━\u001b[0m\u001b[37m\u001b[0m \u001b[1m11s\u001b[0m 2ms/step - loss: 0.0070 - val_loss: 0.0026 - learning_rate: 5.0000e-05\n",
      "Epoch 11/100\n",
      "\u001b[1m6273/6296\u001b[0m \u001b[32m━━━━━━━━━━━━━━━━━━━\u001b[0m\u001b[37m━\u001b[0m \u001b[1m0s\u001b[0m 2ms/step - loss: 0.0070\n",
      "Epoch 11: ReduceLROnPlateau reducing learning rate to 2.499999936844688e-05.\n",
      "\u001b[1m6296/6296\u001b[0m \u001b[32m━━━━━━━━━━━━━━━━━━━━\u001b[0m\u001b[37m\u001b[0m \u001b[1m11s\u001b[0m 2ms/step - loss: 0.0070 - val_loss: 0.0026 - learning_rate: 5.0000e-05\n",
      "Epoch 12/100\n",
      "\u001b[1m6296/6296\u001b[0m \u001b[32m━━━━━━━━━━━━━━━━━━━━\u001b[0m\u001b[37m\u001b[0m \u001b[1m10s\u001b[0m 2ms/step - loss: 0.0070 - val_loss: 0.0026 - learning_rate: 2.5000e-05\n",
      "Epoch 13/100\n",
      "\u001b[1m6296/6296\u001b[0m \u001b[32m━━━━━━━━━━━━━━━━━━━━\u001b[0m\u001b[37m\u001b[0m \u001b[1m10s\u001b[0m 2ms/step - loss: 0.0070 - val_loss: 0.0026 - learning_rate: 2.5000e-05\n",
      "Epoch 14/100\n",
      "\u001b[1m6296/6296\u001b[0m \u001b[32m━━━━━━━━━━━━━━━━━━━━\u001b[0m\u001b[37m\u001b[0m \u001b[1m11s\u001b[0m 2ms/step - loss: 0.0069 - val_loss: 0.0026 - learning_rate: 2.5000e-05\n",
      "Epoch 15/100\n",
      "\u001b[1m6296/6296\u001b[0m \u001b[32m━━━━━━━━━━━━━━━━━━━━\u001b[0m\u001b[37m\u001b[0m \u001b[1m10s\u001b[0m 2ms/step - loss: 0.0069 - val_loss: 0.0026 - learning_rate: 2.5000e-05\n",
      "Epoch 16/100\n",
      "\u001b[1m6273/6296\u001b[0m \u001b[32m━━━━━━━━━━━━━━━━━━━\u001b[0m\u001b[37m━\u001b[0m \u001b[1m0s\u001b[0m 2ms/step - loss: 0.0069\n",
      "Epoch 16: ReduceLROnPlateau reducing learning rate to 1.249999968422344e-05.\n",
      "\u001b[1m6296/6296\u001b[0m \u001b[32m━━━━━━━━━━━━━━━━━━━━\u001b[0m\u001b[37m\u001b[0m \u001b[1m11s\u001b[0m 2ms/step - loss: 0.0069 - val_loss: 0.0026 - learning_rate: 2.5000e-05\n"
     ]
    }
   ],
   "source": [
    "history = model.fit(\n",
    "    X_train, y_train,\n",
    "    validation_split=0.1,\n",
    "    epochs=EPOCHS,\n",
    "    batch_size=BATCH_SIZE,\n",
    "    callbacks=callbacks,\n",
    "    verbose=1\n",
    ")"
   ]
  },
  {
   "cell_type": "markdown",
   "id": "cf85153c",
   "metadata": {},
   "source": [
    "Visualize the training loss"
   ]
  },
  {
   "cell_type": "code",
   "execution_count": 72,
   "id": "ca84df80",
   "metadata": {},
   "outputs": [
    {
     "data": {
      "image/png": "[encoded data removed]",
      "text/plain": [
       "<Figure size 640x480 with 1 Axes>"
      ]
     },
     "metadata": {},
     "output_type": "display_data"
    }
   ],
   "source": [
    "plt.plot(history.history['loss'], label='Train')\n",
    "plt.plot(history.history['val_loss'], label='Validation')\n",
    "plt.title('Loss Curve')\n",
    "plt.ylabel('MSE')\n",
    "plt.xlabel('Epoch')\n",
    "plt.legend()\n",
    "plt.grid(True)\n",
    "plt.show()"
   ]
  },
  {
   "cell_type": "markdown",
   "id": "1fd1f90c",
   "metadata": {},
   "source": [
    "Load best model and evaluate"
   ]
  },
  {
   "cell_type": "code",
   "execution_count": 73,
   "id": "d29c7339",
   "metadata": {},
   "outputs": [
    {
     "name": "stdout",
     "output_type": "stream",
     "text": [
      "\u001b[1m22708/22708\u001b[0m \u001b[32m━━━━━━━━━━━━━━━━━━━━\u001b[0m\u001b[37m\u001b[0m \u001b[1m13s\u001b[0m 581us/step\n"
     ]
    }
   ],
   "source": [
    "model = keras.models.load_model(model_dir / 'streamflow_model.keras')\n",
    "\n",
    "predicted = model.predict(X_test).flatten()\n",
    "\n",
    "predicted_denorm = scaler.inverse_transform(\n",
    "    np.vstack([test_data['NWM_streamflow'].values, predicted]).T\n",
    ")[:, 1]\n",
    "\n",
    "usgs_true_denorm = scaler.inverse_transform(\n",
    "    np.vstack([test_data['NWM_streamflow'].values, y_test]).T\n",
    ")[:, 1]\n",
    "\n",
    "nwm_denorm = scaler.inverse_transform(\n",
    "    np.vstack([test_data['NWM_streamflow'].values, test_data['NWM_streamflow'].values]).T\n",
    ")[:, 1]"
   ]
  },
  {
   "cell_type": "markdown",
   "id": "7bcf8a33",
   "metadata": {},
   "source": [
    "Metrics and visualization"
   ]
  },
  {
   "cell_type": "code",
   "execution_count": 74,
   "id": "272c7e1b",
   "metadata": {},
   "outputs": [
    {
     "name": "stdout",
     "output_type": "stream",
     "text": [
      "NWM RMSE: 16.8668, LSTM RMSE: 14.0177\n",
      "NWM R²: -0.4489, LSTM R²: -0.0008\n"
     ]
    }
   ],
   "source": [
    "rmse_nwm = np.sqrt(mean_squared_error(usgs_true_denorm, nwm_denorm))\n",
    "rmse_model = np.sqrt(mean_squared_error(usgs_true_denorm, predicted_denorm))\n",
    "\n",
    "r2_nwm = r2_score(usgs_true_denorm, nwm_denorm)\n",
    "r2_model = r2_score(usgs_true_denorm, predicted_denorm)\n",
    "\n",
    "print(f\"NWM RMSE: {rmse_nwm:.4f}, LSTM RMSE: {rmse_model:.4f}\")\n",
    "print(f\"NWM R²: {r2_nwm:.4f}, LSTM R²: {r2_model:.4f}\")"
   ]
  },
  {
   "cell_type": "markdown",
   "id": "1365970a",
   "metadata": {},
   "source": [
    "Plot by lead time"
   ]
  },
  {
   "cell_type": "code",
   "execution_count": 75,
   "id": "f3d20882",
   "metadata": {},
   "outputs": [
    {
     "name": "stdout",
     "output_type": "stream",
     "text": [
      "Lead time 1h: RMSE = 13.936\n",
      "Lead time 2h: RMSE = 13.951\n",
      "Lead time 3h: RMSE = 13.969\n",
      "Lead time 4h: RMSE = 13.989\n",
      "Lead time 5h: RMSE = 14.010\n",
      "Lead time 6h: RMSE = 14.028\n",
      "Lead time 7h: RMSE = 14.045\n",
      "Lead time 8h: RMSE = 14.051\n",
      "Lead time 9h: RMSE = 14.051\n",
      "Lead time 10h: RMSE = 14.049\n",
      "Lead time 11h: RMSE = 14.046\n",
      "Lead time 12h: RMSE = 14.045\n",
      "Lead time 13h: RMSE = 14.037\n",
      "Lead time 14h: RMSE = 14.032\n",
      "Lead time 15h: RMSE = 14.027\n",
      "Lead time 16h: RMSE = 14.022\n",
      "Lead time 17h: RMSE = 14.017\n",
      "Lead time 18h: RMSE = 14.011\n"
     ]
    },
    {
     "name": "stderr",
     "output_type": "stream",
     "text": [
      "C:\\Users\\John Waugh\\AppData\\Local\\Temp\\ipykernel_12880\\2996103297.py:1: SettingWithCopyWarning: \n",
      "A value is trying to be set on a copy of a slice from a DataFrame.\n",
      "Try using .loc[row_indexer,col_indexer] = value instead\n",
      "\n",
      "See the caveats in the documentation: https://pandas.pydata.org/pandas-docs/stable/user_guide/indexing.html#returning-a-view-versus-a-copy\n",
      "  test_data['predicted'] = predicted_denorm\n",
      "C:\\Users\\John Waugh\\AppData\\Local\\Temp\\ipykernel_12880\\2996103297.py:2: SettingWithCopyWarning: \n",
      "A value is trying to be set on a copy of a slice from a DataFrame.\n",
      "Try using .loc[row_indexer,col_indexer] = value instead\n",
      "\n",
      "See the caveats in the documentation: https://pandas.pydata.org/pandas-docs/stable/user_guide/indexing.html#returning-a-view-versus-a-copy\n",
      "  test_data['USGS_true'] = usgs_true_denorm\n",
      "C:\\Users\\John Waugh\\AppData\\Local\\Temp\\ipykernel_12880\\2996103297.py:3: SettingWithCopyWarning: \n",
      "A value is trying to be set on a copy of a slice from a DataFrame.\n",
      "Try using .loc[row_indexer,col_indexer] = value instead\n",
      "\n",
      "See the caveats in the documentation: https://pandas.pydata.org/pandas-docs/stable/user_guide/indexing.html#returning-a-view-versus-a-copy\n",
      "  test_data['NWM_true'] = nwm_denorm\n",
      "C:\\Users\\John Waugh\\AppData\\Local\\Temp\\ipykernel_12880\\2996103297.py:4: SettingWithCopyWarning: \n",
      "A value is trying to be set on a copy of a slice from a DataFrame.\n",
      "Try using .loc[row_indexer,col_indexer] = value instead\n",
      "\n",
      "See the caveats in the documentation: https://pandas.pydata.org/pandas-docs/stable/user_guide/indexing.html#returning-a-view-versus-a-copy\n",
      "  test_data['lead_time_hr'] = test_data['lead_time'] * 18\n"
     ]
    }
   ],
   "source": [
    "test_data['predicted'] = predicted_denorm\n",
    "test_data['USGS_true'] = usgs_true_denorm\n",
    "test_data['NWM_true'] = nwm_denorm\n",
    "test_data['lead_time_hr'] = test_data['lead_time'] * 18\n",
    "\n",
    "for lt in sorted(test_data['lead_time_hr'].unique()):\n",
    "    subset = test_data[test_data['lead_time_hr'] == lt]\n",
    "    rmse = np.sqrt(mean_squared_error(subset['USGS_true'], subset['predicted']))\n",
    "    print(f\"Lead time {int(lt)}h: RMSE = {rmse:.3f}\")"
   ]
  },
  {
   "cell_type": "markdown",
   "id": "e051ad0d",
   "metadata": {},
   "source": [
    "Time series plot"
   ]
  },
  {
   "cell_type": "code",
   "execution_count": 76,
   "id": "12af0eb6",
   "metadata": {},
   "outputs": [
    {
     "data": {
      "image/png": "[encoded data removed]",
      "text/plain": [
       "<Figure size 1200x600 with 1 Axes>"
      ]
     },
     "metadata": {},
     "output_type": "display_data"
    }
   ],
   "source": [
    "plt.figure(figsize=(12,6))\n",
    "plt.plot(test_data['model_output_valid_time'], test_data['USGS_true'], label='USGS Observed')\n",
    "plt.plot(test_data['model_output_valid_time'], test_data['NWM_true'], label='NWM Forecast', alpha=0.6)\n",
    "plt.plot(test_data['model_output_valid_time'], test_data['predicted'], label='LSTM Corrected', alpha=0.6)\n",
    "plt.title(\"Forecast Comparison Over Time\")\n",
    "plt.xlabel(\"Time\")\n",
    "plt.ylabel(\"Streamflow (m³/s)\")\n",
    "plt.legend()\n",
    "plt.grid(True)\n",
    "plt.tight_layout()\n",
    "plt.show()"
   ]
  }
 ],
 "metadata": {
  "kernelspec": {
   "display_name": "Python 3",
   "language": "python",
   "name": "python3"
  },
  "language_info": {
   "codemirror_mode": {
    "name": "ipython",
    "version": 3
   },
   "file_extension": ".py",
   "mimetype": "text/x-python",
   "name": "python",
   "nbconvert_exporter": "python",
   "pygments_lexer": "ipython3",
   "version": "3.12.10"
  }
 },
 "nbformat": 4,
 "nbformat_minor": 5
}
