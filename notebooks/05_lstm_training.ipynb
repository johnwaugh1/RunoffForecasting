{
 "cells": [
  {
   "cell_type": "code",
   "execution_count": 20,
   "id": "5f4f86ff",
   "metadata": {},
   "outputs": [],
   "source": [
    "import pandas as pd\n",
    "import numpy as np\n",
    "import tensorflow as tf\n",
    "from tensorflow import keras\n",
    "from tensorflow.keras import layers\n",
    "from sklearn.metrics import mean_squared_error, r2_score\n",
    "import os\n",
    "import matplotlib.pyplot as plt\n",
    "from pathlib import Path\n",
    "import seaborn as sns"
   ]
  },
  {
   "cell_type": "markdown",
   "id": "6de081fd",
   "metadata": {},
   "source": [
    "Set random seed for reproducibility"
   ]
  },
  {
   "cell_type": "code",
   "execution_count": 6,
   "id": "667dbb24",
   "metadata": {},
   "outputs": [],
   "source": [
    "np.random.seed(42)\n",
    "tf.random.set_seed(42)"
   ]
  },
  {
   "cell_type": "markdown",
   "id": "8e00e255",
   "metadata": {},
   "source": [
    "Load processed station data and combine"
   ]
  },
  {
   "cell_type": "code",
   "execution_count": 7,
   "id": "15d75022",
   "metadata": {},
   "outputs": [],
   "source": [
    "station1 = pd.read_parquet('../data/processed/station1_processed.parquet')\n",
    "station2 = pd.read_parquet('../data/processed/station2_processed.parquet')\n",
    "\n",
    "data = pd.concat([station1, station2], ignore_index=True).sort_values('model_output_valid_time')"
   ]
  },
  {
   "cell_type": "markdown",
   "id": "a70d1431",
   "metadata": {},
   "source": [
    "Normalize and define features"
   ]
  },
  {
   "cell_type": "code",
   "execution_count": 8,
   "id": "6a65af80",
   "metadata": {},
   "outputs": [],
   "source": [
    "data['lead_time'] = data['lead_time'] / 18.0\n",
    "data['month'] = data['model_output_valid_time'].dt.month / 12\n",
    "data['dayofyear'] = data['model_output_valid_time'].dt.dayofyear / 365\n",
    "data['hour'] = data['model_output_valid_time'].dt.hour / 24\n",
    "\n",
    "from sklearn.preprocessing import MinMaxScaler\n",
    "scaler = MinMaxScaler()\n",
    "\n",
    "data[['NWM_streamflow', 'USGS_streamflow']] = scaler.fit_transform(data[['NWM_streamflow', 'USGS_streamflow']])\n",
    "\n",
    "FEATURES = ['NWM_streamflow', 'lead_time', 'month', 'dayofyear', 'hour']\n",
    "TARGET = 'USGS_streamflow'"
   ]
  },
  {
   "cell_type": "markdown",
   "id": "e85229e5",
   "metadata": {},
   "source": [
    "Split the data"
   ]
  },
  {
   "cell_type": "code",
   "execution_count": 9,
   "id": "a8c91440",
   "metadata": {},
   "outputs": [
    {
     "name": "stdout",
     "output_type": "stream",
     "text": [
      "Samples:\n",
      "  Train: 1790711\n",
      "  Test:  726652\n",
      "  Total: 2517363\n",
      "\n",
      "Features per time step: 5\n",
      "Time steps per input (sequence length): 1\n"
     ]
    }
   ],
   "source": [
    "train_data = data[data['model_output_valid_time'] < '2022-10-01']\n",
    "test_data  = data[data['model_output_valid_time'] >= '2022-10-01']\n",
    "\n",
    "X_train = train_data[FEATURES].values\n",
    "y_train = train_data[TARGET].values\n",
    "X_test = test_data[FEATURES].values\n",
    "y_test = test_data[TARGET].values\n",
    "\n",
    "X_train = X_train.reshape((X_train.shape[0], 1, X_train.shape[1]))\n",
    "X_test = X_test.reshape((X_test.shape[0], 1, X_test.shape[1]))\n",
    "\n",
    "mask = (\n",
    "    ~np.isnan(X_train).any(axis=(1, 2)) &\n",
    "    ~np.isinf(X_train).any(axis=(1, 2)) &\n",
    "    ~np.isnan(y_train) &\n",
    "    ~np.isinf(y_train)\n",
    ")\n",
    "X_train = X_train[mask]\n",
    "y_train = y_train[mask]\n",
    "\n",
    "print(\"Samples:\")\n",
    "print(f\"  Train: {X_train.shape[0]}\")\n",
    "print(f\"  Test:  {X_test.shape[0]}\")\n",
    "print(f\"  Total: {X_train.shape[0] + X_test.shape[0]}\")\n",
    "print()\n",
    "\n",
    "print(\"Features per time step:\", X_train.shape[2])\n",
    "print(\"Time steps per input (sequence length):\", X_train.shape[1])"
   ]
  },
  {
   "cell_type": "markdown",
   "id": "3c2e2361",
   "metadata": {},
   "source": [
    "Define hyperparameters and build model"
   ]
  },
  {
   "cell_type": "code",
   "execution_count": 11,
   "id": "e11a0756",
   "metadata": {},
   "outputs": [
    {
     "data": {
      "text/html": [
       "<pre style=\"white-space:pre;overflow-x:auto;line-height:normal;font-family:Menlo,'DejaVu Sans Mono',consolas,'Courier New',monospace\"><span style=\"font-weight: bold\">Model: \"sequential_1\"</span>\n",
       "</pre>\n"
      ],
      "text/plain": [
       "\u001b[1mModel: \"sequential_1\"\u001b[0m\n"
      ]
     },
     "metadata": {},
     "output_type": "display_data"
    },
    {
     "data": {
      "text/html": [
       "<pre style=\"white-space:pre;overflow-x:auto;line-height:normal;font-family:Menlo,'DejaVu Sans Mono',consolas,'Courier New',monospace\">┏━━━━━━━━━━━━━━━━━━━━━━━━━━━━━━━━━┳━━━━━━━━━━━━━━━━━━━━━━━━┳━━━━━━━━━━━━━━━┓\n",
       "┃<span style=\"font-weight: bold\"> Layer (type)                    </span>┃<span style=\"font-weight: bold\"> Output Shape           </span>┃<span style=\"font-weight: bold\">       Param # </span>┃\n",
       "┡━━━━━━━━━━━━━━━━━━━━━━━━━━━━━━━━━╇━━━━━━━━━━━━━━━━━━━━━━━━╇━━━━━━━━━━━━━━━┩\n",
       "│ lstm_1 (<span style=\"color: #0087ff; text-decoration-color: #0087ff\">LSTM</span>)                   │ (<span style=\"color: #00d7ff; text-decoration-color: #00d7ff\">None</span>, <span style=\"color: #00af00; text-decoration-color: #00af00\">64</span>)             │        <span style=\"color: #00af00; text-decoration-color: #00af00\">17,920</span> │\n",
       "├─────────────────────────────────┼────────────────────────┼───────────────┤\n",
       "│ dense_1 (<span style=\"color: #0087ff; text-decoration-color: #0087ff\">Dense</span>)                 │ (<span style=\"color: #00d7ff; text-decoration-color: #00d7ff\">None</span>, <span style=\"color: #00af00; text-decoration-color: #00af00\">1</span>)              │            <span style=\"color: #00af00; text-decoration-color: #00af00\">65</span> │\n",
       "└─────────────────────────────────┴────────────────────────┴───────────────┘\n",
       "</pre>\n"
      ],
      "text/plain": [
       "┏━━━━━━━━━━━━━━━━━━━━━━━━━━━━━━━━━┳━━━━━━━━━━━━━━━━━━━━━━━━┳━━━━━━━━━━━━━━━┓\n",
       "┃\u001b[1m \u001b[0m\u001b[1mLayer (type)                   \u001b[0m\u001b[1m \u001b[0m┃\u001b[1m \u001b[0m\u001b[1mOutput Shape          \u001b[0m\u001b[1m \u001b[0m┃\u001b[1m \u001b[0m\u001b[1m      Param #\u001b[0m\u001b[1m \u001b[0m┃\n",
       "┡━━━━━━━━━━━━━━━━━━━━━━━━━━━━━━━━━╇━━━━━━━━━━━━━━━━━━━━━━━━╇━━━━━━━━━━━━━━━┩\n",
       "│ lstm_1 (\u001b[38;5;33mLSTM\u001b[0m)                   │ (\u001b[38;5;45mNone\u001b[0m, \u001b[38;5;34m64\u001b[0m)             │        \u001b[38;5;34m17,920\u001b[0m │\n",
       "├─────────────────────────────────┼────────────────────────┼───────────────┤\n",
       "│ dense_1 (\u001b[38;5;33mDense\u001b[0m)                 │ (\u001b[38;5;45mNone\u001b[0m, \u001b[38;5;34m1\u001b[0m)              │            \u001b[38;5;34m65\u001b[0m │\n",
       "└─────────────────────────────────┴────────────────────────┴───────────────┘\n"
      ]
     },
     "metadata": {},
     "output_type": "display_data"
    },
    {
     "data": {
      "text/html": [
       "<pre style=\"white-space:pre;overflow-x:auto;line-height:normal;font-family:Menlo,'DejaVu Sans Mono',consolas,'Courier New',monospace\"><span style=\"font-weight: bold\"> Total params: </span><span style=\"color: #00af00; text-decoration-color: #00af00\">17,985</span> (70.25 KB)\n",
       "</pre>\n"
      ],
      "text/plain": [
       "\u001b[1m Total params: \u001b[0m\u001b[38;5;34m17,985\u001b[0m (70.25 KB)\n"
      ]
     },
     "metadata": {},
     "output_type": "display_data"
    },
    {
     "data": {
      "text/html": [
       "<pre style=\"white-space:pre;overflow-x:auto;line-height:normal;font-family:Menlo,'DejaVu Sans Mono',consolas,'Courier New',monospace\"><span style=\"font-weight: bold\"> Trainable params: </span><span style=\"color: #00af00; text-decoration-color: #00af00\">17,985</span> (70.25 KB)\n",
       "</pre>\n"
      ],
      "text/plain": [
       "\u001b[1m Trainable params: \u001b[0m\u001b[38;5;34m17,985\u001b[0m (70.25 KB)\n"
      ]
     },
     "metadata": {},
     "output_type": "display_data"
    },
    {
     "data": {
      "text/html": [
       "<pre style=\"white-space:pre;overflow-x:auto;line-height:normal;font-family:Menlo,'DejaVu Sans Mono',consolas,'Courier New',monospace\"><span style=\"font-weight: bold\"> Non-trainable params: </span><span style=\"color: #00af00; text-decoration-color: #00af00\">0</span> (0.00 B)\n",
       "</pre>\n"
      ],
      "text/plain": [
       "\u001b[1m Non-trainable params: \u001b[0m\u001b[38;5;34m0\u001b[0m (0.00 B)\n"
      ]
     },
     "metadata": {},
     "output_type": "display_data"
    }
   ],
   "source": [
    "EPOCHS = 100\n",
    "BATCH_SIZE = 256\n",
    "LEARNING_RATE = 5e-4\n",
    "LSTM_UNITS = 64          \n",
    "DROPOUT = 0.2 \n",
    "\n",
    "def build_model(input_shape):\n",
    "    model = keras.Sequential()\n",
    "    model.add(layers.Input(shape=input_shape))\n",
    "    model.add(layers.LSTM(LSTM_UNITS, dropout=DROPOUT))\n",
    "    model.add(layers.Dense(1))\n",
    "\n",
    "    optimizer = keras.optimizers.Adam(learning_rate=LEARNING_RATE, clipnorm=1.0)\n",
    "    model.compile(optimizer=optimizer, loss='mse')\n",
    "    return model\n",
    "\n",
    "model = build_model((X_train.shape[1], X_train.shape[2]))\n",
    "model.summary()"
   ]
  },
  {
   "cell_type": "markdown",
   "id": "ed766441",
   "metadata": {},
   "source": [
    "Create directory to save model"
   ]
  },
  {
   "cell_type": "code",
   "execution_count": 12,
   "id": "d2b19e96",
   "metadata": {},
   "outputs": [],
   "source": [
    "model_dir = Path('./saved_models')\n",
    "model_dir.mkdir(exist_ok=True)\n",
    "\n",
    "callbacks = [\n",
    "    keras.callbacks.ModelCheckpoint(\n",
    "        filepath=model_dir / 'streamflow_model.keras',\n",
    "        save_best_only=True,\n",
    "        monitor='val_loss',\n",
    "        mode='min'\n",
    "    ),\n",
    "    keras.callbacks.ReduceLROnPlateau(\n",
    "        monitor='val_loss',\n",
    "        factor=0.5,\n",
    "        patience=5,\n",
    "        verbose=1\n",
    "    ),\n",
    "    keras.callbacks.EarlyStopping(\n",
    "        patience=20,\n",
    "        restore_best_weights=True\n",
    "    )\n",
    "]"
   ]
  },
  {
   "cell_type": "markdown",
   "id": "7c77f93e",
   "metadata": {},
   "source": [
    "Train the model"
   ]
  },
  {
   "cell_type": "code",
   "execution_count": 13,
   "id": "3a186a34",
   "metadata": {},
   "outputs": [
    {
     "name": "stdout",
     "output_type": "stream",
     "text": [
      "Epoch 1/100\n",
      "\u001b[1m6296/6296\u001b[0m \u001b[32m━━━━━━━━━━━━━━━━━━━━\u001b[0m\u001b[37m\u001b[0m \u001b[1m22s\u001b[0m 3ms/step - loss: 0.0071 - val_loss: 0.0015 - learning_rate: 5.0000e-04\n",
      "Epoch 2/100\n",
      "\u001b[1m6296/6296\u001b[0m \u001b[32m━━━━━━━━━━━━━━━━━━━━\u001b[0m\u001b[37m\u001b[0m \u001b[1m23s\u001b[0m 4ms/step - loss: 0.0066 - val_loss: 7.4416e-04 - learning_rate: 5.0000e-04\n",
      "Epoch 3/100\n",
      "\u001b[1m6296/6296\u001b[0m \u001b[32m━━━━━━━━━━━━━━━━━━━━\u001b[0m\u001b[37m\u001b[0m \u001b[1m24s\u001b[0m 4ms/step - loss: 0.0065 - val_loss: 6.8942e-04 - learning_rate: 5.0000e-04\n",
      "Epoch 4/100\n",
      "\u001b[1m6296/6296\u001b[0m \u001b[32m━━━━━━━━━━━━━━━━━━━━\u001b[0m\u001b[37m\u001b[0m \u001b[1m29s\u001b[0m 5ms/step - loss: 0.0064 - val_loss: 5.2831e-04 - learning_rate: 5.0000e-04\n",
      "Epoch 5/100\n",
      "\u001b[1m6296/6296\u001b[0m \u001b[32m━━━━━━━━━━━━━━━━━━━━\u001b[0m\u001b[37m\u001b[0m \u001b[1m27s\u001b[0m 4ms/step - loss: 0.0063 - val_loss: 4.9603e-04 - learning_rate: 5.0000e-04\n",
      "Epoch 6/100\n",
      "\u001b[1m6296/6296\u001b[0m \u001b[32m━━━━━━━━━━━━━━━━━━━━\u001b[0m\u001b[37m\u001b[0m \u001b[1m24s\u001b[0m 4ms/step - loss: 0.0063 - val_loss: 4.7796e-04 - learning_rate: 5.0000e-04\n",
      "Epoch 7/100\n",
      "\u001b[1m6296/6296\u001b[0m \u001b[32m━━━━━━━━━━━━━━━━━━━━\u001b[0m\u001b[37m\u001b[0m \u001b[1m25s\u001b[0m 4ms/step - loss: 0.0062 - val_loss: 4.9792e-04 - learning_rate: 5.0000e-04\n",
      "Epoch 8/100\n",
      "\u001b[1m6296/6296\u001b[0m \u001b[32m━━━━━━━━━━━━━━━━━━━━\u001b[0m\u001b[37m\u001b[0m \u001b[1m25s\u001b[0m 4ms/step - loss: 0.0061 - val_loss: 4.5571e-04 - learning_rate: 5.0000e-04\n",
      "Epoch 9/100\n",
      "\u001b[1m6296/6296\u001b[0m \u001b[32m━━━━━━━━━━━━━━━━━━━━\u001b[0m\u001b[37m\u001b[0m \u001b[1m27s\u001b[0m 4ms/step - loss: 0.0061 - val_loss: 4.2131e-04 - learning_rate: 5.0000e-04\n",
      "Epoch 10/100\n",
      "\u001b[1m6296/6296\u001b[0m \u001b[32m━━━━━━━━━━━━━━━━━━━━\u001b[0m\u001b[37m\u001b[0m \u001b[1m29s\u001b[0m 5ms/step - loss: 0.0060 - val_loss: 3.2414e-04 - learning_rate: 5.0000e-04\n",
      "Epoch 11/100\n",
      "\u001b[1m6296/6296\u001b[0m \u001b[32m━━━━━━━━━━━━━━━━━━━━\u001b[0m\u001b[37m\u001b[0m \u001b[1m35s\u001b[0m 6ms/step - loss: 0.0059 - val_loss: 3.0674e-04 - learning_rate: 5.0000e-04\n",
      "Epoch 12/100\n",
      "\u001b[1m6296/6296\u001b[0m \u001b[32m━━━━━━━━━━━━━━━━━━━━\u001b[0m\u001b[37m\u001b[0m \u001b[1m35s\u001b[0m 5ms/step - loss: 0.0059 - val_loss: 2.9990e-04 - learning_rate: 5.0000e-04\n",
      "Epoch 13/100\n",
      "\u001b[1m6296/6296\u001b[0m \u001b[32m━━━━━━━━━━━━━━━━━━━━\u001b[0m\u001b[37m\u001b[0m \u001b[1m29s\u001b[0m 5ms/step - loss: 0.0058 - val_loss: 2.5000e-04 - learning_rate: 5.0000e-04\n",
      "Epoch 14/100\n",
      "\u001b[1m6296/6296\u001b[0m \u001b[32m━━━━━━━━━━━━━━━━━━━━\u001b[0m\u001b[37m\u001b[0m \u001b[1m28s\u001b[0m 4ms/step - loss: 0.0058 - val_loss: 2.4844e-04 - learning_rate: 5.0000e-04\n",
      "Epoch 15/100\n",
      "\u001b[1m6296/6296\u001b[0m \u001b[32m━━━━━━━━━━━━━━━━━━━━\u001b[0m\u001b[37m\u001b[0m \u001b[1m28s\u001b[0m 4ms/step - loss: 0.0058 - val_loss: 2.1075e-04 - learning_rate: 5.0000e-04\n",
      "Epoch 16/100\n",
      "\u001b[1m6284/6296\u001b[0m \u001b[32m━━━━━━━━━━━━━━━━━━━\u001b[0m\u001b[37m━\u001b[0m \u001b[1m0s\u001b[0m 4ms/step - loss: 0.0058\n",
      "Epoch 16: ReduceLROnPlateau reducing learning rate to 0.0002500000118743628.\n",
      "\u001b[1m6296/6296\u001b[0m \u001b[32m━━━━━━━━━━━━━━━━━━━━\u001b[0m\u001b[37m\u001b[0m \u001b[1m29s\u001b[0m 5ms/step - loss: 0.0058 - val_loss: 2.2937e-04 - learning_rate: 5.0000e-04\n",
      "Epoch 17/100\n",
      "\u001b[1m6296/6296\u001b[0m \u001b[32m━━━━━━━━━━━━━━━━━━━━\u001b[0m\u001b[37m\u001b[0m \u001b[1m25s\u001b[0m 4ms/step - loss: 0.0057 - val_loss: 2.8811e-04 - learning_rate: 2.5000e-04\n",
      "Epoch 18/100\n",
      "\u001b[1m6296/6296\u001b[0m \u001b[32m━━━━━━━━━━━━━━━━━━━━\u001b[0m\u001b[37m\u001b[0m \u001b[1m31s\u001b[0m 5ms/step - loss: 0.0057 - val_loss: 2.6528e-04 - learning_rate: 2.5000e-04\n",
      "Epoch 19/100\n",
      "\u001b[1m6296/6296\u001b[0m \u001b[32m━━━━━━━━━━━━━━━━━━━━\u001b[0m\u001b[37m\u001b[0m \u001b[1m27s\u001b[0m 4ms/step - loss: 0.0057 - val_loss: 2.6870e-04 - learning_rate: 2.5000e-04\n",
      "Epoch 20/100\n",
      "\u001b[1m6296/6296\u001b[0m \u001b[32m━━━━━━━━━━━━━━━━━━━━\u001b[0m\u001b[37m\u001b[0m \u001b[1m26s\u001b[0m 4ms/step - loss: 0.0057 - val_loss: 2.8934e-04 - learning_rate: 2.5000e-04\n",
      "Epoch 21/100\n",
      "\u001b[1m6284/6296\u001b[0m \u001b[32m━━━━━━━━━━━━━━━━━━━\u001b[0m\u001b[37m━\u001b[0m \u001b[1m0s\u001b[0m 4ms/step - loss: 0.0057\n",
      "Epoch 21: ReduceLROnPlateau reducing learning rate to 0.0001250000059371814.\n",
      "\u001b[1m6296/6296\u001b[0m \u001b[32m━━━━━━━━━━━━━━━━━━━━\u001b[0m\u001b[37m\u001b[0m \u001b[1m27s\u001b[0m 4ms/step - loss: 0.0057 - val_loss: 2.7154e-04 - learning_rate: 2.5000e-04\n",
      "Epoch 22/100\n",
      "\u001b[1m6296/6296\u001b[0m \u001b[32m━━━━━━━━━━━━━━━━━━━━\u001b[0m\u001b[37m\u001b[0m \u001b[1m25s\u001b[0m 4ms/step - loss: 0.0057 - val_loss: 2.4714e-04 - learning_rate: 1.2500e-04\n",
      "Epoch 23/100\n",
      "\u001b[1m6296/6296\u001b[0m \u001b[32m━━━━━━━━━━━━━━━━━━━━\u001b[0m\u001b[37m\u001b[0m \u001b[1m26s\u001b[0m 4ms/step - loss: 0.0057 - val_loss: 2.5921e-04 - learning_rate: 1.2500e-04\n",
      "Epoch 24/100\n",
      "\u001b[1m6296/6296\u001b[0m \u001b[32m━━━━━━━━━━━━━━━━━━━━\u001b[0m\u001b[37m\u001b[0m \u001b[1m25s\u001b[0m 4ms/step - loss: 0.0057 - val_loss: 2.3405e-04 - learning_rate: 1.2500e-04\n",
      "Epoch 25/100\n",
      "\u001b[1m6296/6296\u001b[0m \u001b[32m━━━━━━━━━━━━━━━━━━━━\u001b[0m\u001b[37m\u001b[0m \u001b[1m26s\u001b[0m 4ms/step - loss: 0.0057 - val_loss: 2.2936e-04 - learning_rate: 1.2500e-04\n",
      "Epoch 26/100\n",
      "\u001b[1m6292/6296\u001b[0m \u001b[32m━━━━━━━━━━━━━━━━━━━\u001b[0m\u001b[37m━\u001b[0m \u001b[1m0s\u001b[0m 4ms/step - loss: 0.0057\n",
      "Epoch 26: ReduceLROnPlateau reducing learning rate to 6.25000029685907e-05.\n",
      "\u001b[1m6296/6296\u001b[0m \u001b[32m━━━━━━━━━━━━━━━━━━━━\u001b[0m\u001b[37m\u001b[0m \u001b[1m25s\u001b[0m 4ms/step - loss: 0.0057 - val_loss: 2.3241e-04 - learning_rate: 1.2500e-04\n",
      "Epoch 27/100\n",
      "\u001b[1m6296/6296\u001b[0m \u001b[32m━━━━━━━━━━━━━━━━━━━━\u001b[0m\u001b[37m\u001b[0m \u001b[1m26s\u001b[0m 4ms/step - loss: 0.0057 - val_loss: 2.3066e-04 - learning_rate: 6.2500e-05\n",
      "Epoch 28/100\n",
      "\u001b[1m6296/6296\u001b[0m \u001b[32m━━━━━━━━━━━━━━━━━━━━\u001b[0m\u001b[37m\u001b[0m \u001b[1m27s\u001b[0m 4ms/step - loss: 0.0057 - val_loss: 2.3899e-04 - learning_rate: 6.2500e-05\n",
      "Epoch 29/100\n",
      "\u001b[1m6296/6296\u001b[0m \u001b[32m━━━━━━━━━━━━━━━━━━━━\u001b[0m\u001b[37m\u001b[0m \u001b[1m26s\u001b[0m 4ms/step - loss: 0.0057 - val_loss: 2.2313e-04 - learning_rate: 6.2500e-05\n",
      "Epoch 30/100\n",
      "\u001b[1m6296/6296\u001b[0m \u001b[32m━━━━━━━━━━━━━━━━━━━━\u001b[0m\u001b[37m\u001b[0m \u001b[1m27s\u001b[0m 4ms/step - loss: 0.0057 - val_loss: 2.2079e-04 - learning_rate: 6.2500e-05\n",
      "Epoch 31/100\n",
      "\u001b[1m6291/6296\u001b[0m \u001b[32m━━━━━━━━━━━━━━━━━━━\u001b[0m\u001b[37m━\u001b[0m \u001b[1m0s\u001b[0m 4ms/step - loss: 0.0057\n",
      "Epoch 31: ReduceLROnPlateau reducing learning rate to 3.125000148429535e-05.\n",
      "\u001b[1m6296/6296\u001b[0m \u001b[32m━━━━━━━━━━━━━━━━━━━━\u001b[0m\u001b[37m\u001b[0m \u001b[1m27s\u001b[0m 4ms/step - loss: 0.0057 - val_loss: 2.1883e-04 - learning_rate: 6.2500e-05\n",
      "Epoch 32/100\n",
      "\u001b[1m6296/6296\u001b[0m \u001b[32m━━━━━━━━━━━━━━━━━━━━\u001b[0m\u001b[37m\u001b[0m \u001b[1m26s\u001b[0m 4ms/step - loss: 0.0057 - val_loss: 2.3098e-04 - learning_rate: 3.1250e-05\n",
      "Epoch 33/100\n",
      "\u001b[1m6296/6296\u001b[0m \u001b[32m━━━━━━━━━━━━━━━━━━━━\u001b[0m\u001b[37m\u001b[0m \u001b[1m27s\u001b[0m 4ms/step - loss: 0.0057 - val_loss: 2.2043e-04 - learning_rate: 3.1250e-05\n",
      "Epoch 34/100\n",
      "\u001b[1m6296/6296\u001b[0m \u001b[32m━━━━━━━━━━━━━━━━━━━━\u001b[0m\u001b[37m\u001b[0m \u001b[1m28s\u001b[0m 4ms/step - loss: 0.0057 - val_loss: 2.1494e-04 - learning_rate: 3.1250e-05\n",
      "Epoch 35/100\n",
      "\u001b[1m6296/6296\u001b[0m \u001b[32m━━━━━━━━━━━━━━━━━━━━\u001b[0m\u001b[37m\u001b[0m \u001b[1m26s\u001b[0m 4ms/step - loss: 0.0057 - val_loss: 2.1813e-04 - learning_rate: 3.1250e-05\n"
     ]
    }
   ],
   "source": [
    "history = model.fit(\n",
    "    X_train, y_train,\n",
    "    validation_split=0.1,\n",
    "    epochs=EPOCHS,\n",
    "    batch_size=BATCH_SIZE,\n",
    "    callbacks=callbacks,\n",
    "    verbose=1\n",
    ")"
   ]
  },
  {
   "cell_type": "markdown",
   "id": "cf85153c",
   "metadata": {},
   "source": [
    "Visualize the training loss"
   ]
  },
  {
   "cell_type": "code",
   "execution_count": 37,
   "id": "ca84df80",
   "metadata": {},
   "outputs": [
    {
     "data": {
      "image/png": "[encoded data removed]",
      "text/plain": [
       "<Figure size 640x480 with 1 Axes>"
      ]
     },
     "metadata": {},
     "output_type": "display_data"
    }
   ],
   "source": [
    "plt.plot(history.history['loss'], label='Train')\n",
    "plt.plot(history.history['val_loss'], label='Validation')\n",
    "plt.title('Loss Curve')\n",
    "plt.ylabel('MSE')\n",
    "plt.xlabel('Epoch')\n",
    "plt.legend()\n",
    "plt.grid(True)\n",
    "plt.savefig(f\"../data/figures/loss_curve.png\")\n",
    "plt.show()"
   ]
  },
  {
   "cell_type": "markdown",
   "id": "1fd1f90c",
   "metadata": {},
   "source": [
    "Load best model and evaluate"
   ]
  },
  {
   "cell_type": "code",
   "execution_count": 30,
   "id": "d29c7339",
   "metadata": {},
   "outputs": [
    {
     "name": "stdout",
     "output_type": "stream",
     "text": [
      "\u001b[1m22708/22708\u001b[0m \u001b[32m━━━━━━━━━━━━━━━━━━━━\u001b[0m\u001b[37m\u001b[0m \u001b[1m38s\u001b[0m 2ms/step\n"
     ]
    }
   ],
   "source": [
    "model = keras.models.load_model(model_dir / 'streamflow_model.keras')\n",
    "\n",
    "predicted = model.predict(X_test).flatten()\n",
    "\n",
    "predicted_denorm = scaler.inverse_transform(\n",
    "    np.vstack([test_data['NWM_streamflow'].values, predicted]).T\n",
    ")[:, 1]\n",
    "\n",
    "usgs_true_denorm = scaler.inverse_transform(\n",
    "    np.vstack([test_data['NWM_streamflow'].values, y_test]).T\n",
    ")[:, 1]\n",
    "\n",
    "nwm_denorm = scaler.inverse_transform(\n",
    "    np.vstack([test_data['NWM_streamflow'].values, test_data['NWM_streamflow'].values]).T\n",
    ")[:, 1]"
   ]
  },
  {
   "cell_type": "markdown",
   "id": "7bcf8a33",
   "metadata": {},
   "source": [
    "Metrics and visualization"
   ]
  },
  {
   "cell_type": "code",
   "execution_count": 38,
   "id": "272c7e1b",
   "metadata": {},
   "outputs": [
    {
     "data": {
      "image/png": "[encoded data removed]",
      "text/plain": [
       "<Figure size 1600x600 with 1 Axes>"
      ]
     },
     "metadata": {},
     "output_type": "display_data"
    }
   ],
   "source": [
    "\n",
    "test_data['predicted'] = predicted_denorm\n",
    "test_data['USGS_true'] = usgs_true_denorm\n",
    "test_data['NWM_true'] = nwm_denorm\n",
    "\n",
    "runoff_melted = pd.melt(\n",
    "    test_data,\n",
    "    id_vars=['lead_time_hr'],\n",
    "    value_vars=['USGS_true', 'NWM_true', 'predicted'],\n",
    "    var_name='Source',\n",
    "    value_name='Runoff'\n",
    ")\n",
    "\n",
    "source_map = {\n",
    "    'USGS_true': 'Observed',\n",
    "    'NWM_true': 'NWM Forecast',\n",
    "    'predicted': 'LSTM Corrected'\n",
    "}\n",
    "runoff_melted['Source'] = runoff_melted['Source'].map(source_map)\n",
    "\n",
    "plt.figure(figsize=(16, 6))\n",
    "sns.boxplot(x='lead_time_hr', y='Runoff', hue='Source', data=runoff_melted)\n",
    "plt.xlabel('Lead Time (hours)')\n",
    "plt.ylabel('Runoff (m³/s)')\n",
    "plt.title('Runoff Distributions by Lead Time')\n",
    "plt.legend(title='Source')\n",
    "plt.grid(True, axis='y')\n",
    "plt.tight_layout()\n",
    "plt.savefig(f\"../data/figures/runoff_distribution_comparison_by_lead_time.png\")\n",
    "plt.show()\n"
   ]
  },
  {
   "cell_type": "markdown",
   "id": "1365970a",
   "metadata": {},
   "source": [
    "Box Plot Functions"
   ]
  },
  {
   "cell_type": "code",
   "execution_count": 35,
   "id": "f3d20882",
   "metadata": {},
   "outputs": [
    {
     "name": "stderr",
     "output_type": "stream",
     "text": [
      "C:\\Users\\johnm\\AppData\\Local\\Temp\\ipykernel_14852\\3337757252.py:45: ConstantInputWarning: An input array is constant; the correlation coefficient is not defined.\n",
      "  cc_nwm = pearsonr(obs_chunk, nwm_chunk)[0]\n",
      "C:\\Users\\johnm\\AppData\\Local\\Temp\\ipykernel_14852\\3337757252.py:46: ConstantInputWarning: An input array is constant; the correlation coefficient is not defined.\n",
      "  cc_lstm = pearsonr(obs_chunk, lstm_chunk)[0]\n",
      "C:\\Users\\johnm\\AppData\\Local\\Temp\\ipykernel_14852\\3337757252.py:53: ConstantInputWarning: An input array is constant; the correlation coefficient is not defined.\n",
      "  'CC': pearsonr(obs_chunk, nwm_chunk)[0],\n",
      "C:\\Users\\johnm\\AppData\\Local\\Temp\\ipykernel_14852\\3337757252.py:59: ConstantInputWarning: An input array is constant; the correlation coefficient is not defined.\n",
      "  'CC': pearsonr(obs_chunk, lstm_chunk)[0],\n"
     ]
    },
    {
     "name": "stdout",
     "output_type": "stream",
     "text": [
      "Lead Time 18.0hr — valid NSE/CC chunks: 6599\n"
     ]
    }
   ],
   "source": [
    "from scipy.stats import pearsonr\n",
    "\n",
    "def nse(observed, simulated):\n",
    "    observed = np.asarray(observed)\n",
    "    simulated = np.asarray(simulated)\n",
    "    return 1 - np.sum((observed - simulated) ** 2) / np.sum((observed - np.mean(observed)) ** 2)\n",
    "\n",
    "metrics_records = []\n",
    "chunk_size = 6\n",
    "\n",
    "for lt in sorted(test_data['lead_time_hr'].unique()):\n",
    "    subset = test_data[test_data['lead_time_hr'] == lt]\n",
    "    obs = subset['USGS_true'].values\n",
    "    nwm = subset['NWM_true'].values\n",
    "    lstm = subset['predicted'].values\n",
    "    \n",
    "    for o, n, l in zip(obs, nwm, lstm):\n",
    "        if o == 0: continue\n",
    "        metrics_records.append({\n",
    "            'Lead Time': int(lt),\n",
    "            'Source': 'NWM',\n",
    "            'RMSE': np.sqrt((o - n) ** 2),\n",
    "            'PBIAS': 100 * (n - o) / o,\n",
    "        })\n",
    "        metrics_records.append({\n",
    "            'Lead Time': int(lt),\n",
    "            'Source': 'LSTM',\n",
    "            'RMSE': np.sqrt((o - l) ** 2),\n",
    "            'PBIAS': 100 * (l - o) / o,\n",
    "        })\n",
    "        \n",
    "    chunk_count = 0\n",
    "    for i in range(0, len(obs) - chunk_size + 1, chunk_size):\n",
    "        obs_chunk = obs[i:i + chunk_size]\n",
    "        nwm_chunk = nwm[i:i + chunk_size]\n",
    "        lstm_chunk = lstm[i:i + chunk_size]\n",
    "\n",
    "        if (\n",
    "            np.std(obs_chunk) == 0 or np.isnan(obs_chunk).any()\n",
    "            or np.isnan(nwm_chunk).any() or np.isnan(lstm_chunk).any()\n",
    "        ):\n",
    "            continue\n",
    "\n",
    "        try:\n",
    "            cc_nwm = pearsonr(obs_chunk, nwm_chunk)[0]\n",
    "            cc_lstm = pearsonr(obs_chunk, lstm_chunk)[0]\n",
    "        except:\n",
    "            continue\n",
    "\n",
    "        metrics_records.append({\n",
    "            'Lead Time': int(lt),\n",
    "            'Source': 'NWM',\n",
    "            'CC': pearsonr(obs_chunk, nwm_chunk)[0],\n",
    "            'NSE': nse(obs_chunk, nwm_chunk),\n",
    "        })\n",
    "        metrics_records.append({\n",
    "            'Lead Time': int(lt),\n",
    "            'Source': 'LSTM',\n",
    "            'CC': pearsonr(obs_chunk, lstm_chunk)[0],\n",
    "            'NSE': nse(obs_chunk, lstm_chunk),\n",
    "        })\n",
    "        chunk_count += 1\n",
    "\n",
    "print(f'Lead Time {lt}hr — valid NSE/CC chunks: {chunk_count}')   \n",
    "    \n",
    "metrics_long = pd.DataFrame(metrics_records)"
   ]
  },
  {
   "cell_type": "markdown",
   "id": "671a49e6",
   "metadata": {},
   "source": [
    "Box Plots of Metrics"
   ]
  },
  {
   "cell_type": "code",
   "execution_count": 40,
   "id": "fd0368f1",
   "metadata": {},
   "outputs": [],
   "source": [
    "output_dir = \"../data/figures\"\n",
    "\n",
    "def plot_metric_box_from_long(df, metric):\n",
    "    plt.figure(figsize=(16, 6))\n",
    "    sns.boxplot(x='Lead Time', y=metric, hue='Source', data=df[df[metric].notnull()])\n",
    "    plt.title(f'{metric} by Lead Time')\n",
    "    plt.grid(True, axis='y')\n",
    "    plt.tight_layout()\n",
    "\n",
    "    filename = f\"{output_dir}/{metric}_by_lead_time.png\"\n",
    "    plt.savefig(filename)\n",
    "    plt.close()\n",
    "\n",
    "for m in ['RMSE', 'PBIAS', 'NSE', 'CC']:\n",
    "    plot_metric_box_from_long(metrics_long, m)"
   ]
  }
 ],
 "metadata": {
  "kernelspec": {
   "display_name": "Python 3",
   "language": "python",
   "name": "python3"
  },
  "language_info": {
   "codemirror_mode": {
    "name": "ipython",
    "version": 3
   },
   "file_extension": ".py",
   "mimetype": "text/x-python",
   "name": "python",
   "nbconvert_exporter": "python",
   "pygments_lexer": "ipython3",
   "version": "3.12.10"
  }
 },
 "nbformat": 4,
 "nbformat_minor": 5
}
