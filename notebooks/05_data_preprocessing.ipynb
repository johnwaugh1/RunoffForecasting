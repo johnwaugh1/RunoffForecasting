{
 "cells": [
  {
   "cell_type": "code",
   "execution_count": 2,
   "id": "8ec052d6",
   "metadata": {},
   "outputs": [],
   "source": [
    "# Import necessary libraries for data manipulation and analysis\n",
    "import pandas as pd\n",
    "import numpy as np\n",
    "import matplotlib.pyplot as plt\n",
    "import seaborn as sns\n",
    "\n",
    "from sklearn.model_selection import train_test_split\n"
   ]
  },
  {
   "cell_type": "markdown",
   "id": "87566763",
   "metadata": {},
   "source": [
    " Load Processed Data for Station 1 and Station 2"
   ]
  },
  {
   "cell_type": "code",
   "execution_count": 3,
   "id": "ebb5561f",
   "metadata": {},
   "outputs": [
    {
     "name": "stdout",
     "output_type": "stream",
     "text": [
      "Station 1 Data:\n"
     ]
    },
    {
     "data": {
      "text/html": [
       "<div>\n",
       "<style scoped>\n",
       "    .dataframe tbody tr th:only-of-type {\n",
       "        vertical-align: middle;\n",
       "    }\n",
       "\n",
       "    .dataframe tbody tr th {\n",
       "        vertical-align: top;\n",
       "    }\n",
       "\n",
       "    .dataframe thead th {\n",
       "        text-align: right;\n",
       "    }\n",
       "</style>\n",
       "<table border=\"1\" class=\"dataframe\">\n",
       "  <thead>\n",
       "    <tr style=\"text-align: right;\">\n",
       "      <th></th>\n",
       "      <th>model_initialization_time</th>\n",
       "      <th>model_output_valid_time</th>\n",
       "      <th>NWM_streamflow</th>\n",
       "      <th>USGS_streamflow</th>\n",
       "    </tr>\n",
       "  </thead>\n",
       "  <tbody>\n",
       "    <tr>\n",
       "      <th>0</th>\n",
       "      <td>2021-04-21 00:00:00</td>\n",
       "      <td>2021-04-21 01:00:00</td>\n",
       "      <td>0.45</td>\n",
       "      <td>0.19</td>\n",
       "    </tr>\n",
       "    <tr>\n",
       "      <th>1</th>\n",
       "      <td>2021-04-21 00:00:00</td>\n",
       "      <td>2021-04-21 01:00:00</td>\n",
       "      <td>0.45</td>\n",
       "      <td>0.19</td>\n",
       "    </tr>\n",
       "    <tr>\n",
       "      <th>2</th>\n",
       "      <td>2021-04-21 00:00:00</td>\n",
       "      <td>2021-04-21 01:00:00</td>\n",
       "      <td>0.45</td>\n",
       "      <td>0.19</td>\n",
       "    </tr>\n",
       "    <tr>\n",
       "      <th>3</th>\n",
       "      <td>2021-04-21 00:00:00</td>\n",
       "      <td>2021-04-21 02:00:00</td>\n",
       "      <td>0.84</td>\n",
       "      <td>0.19</td>\n",
       "    </tr>\n",
       "    <tr>\n",
       "      <th>4</th>\n",
       "      <td>2021-04-21 00:00:00</td>\n",
       "      <td>2021-04-21 02:00:00</td>\n",
       "      <td>0.84</td>\n",
       "      <td>0.19</td>\n",
       "    </tr>\n",
       "  </tbody>\n",
       "</table>\n",
       "</div>"
      ],
      "text/plain": [
       "  model_initialization_time model_output_valid_time  NWM_streamflow  \\\n",
       "0       2021-04-21 00:00:00     2021-04-21 01:00:00            0.45   \n",
       "1       2021-04-21 00:00:00     2021-04-21 01:00:00            0.45   \n",
       "2       2021-04-21 00:00:00     2021-04-21 01:00:00            0.45   \n",
       "3       2021-04-21 00:00:00     2021-04-21 02:00:00            0.84   \n",
       "4       2021-04-21 00:00:00     2021-04-21 02:00:00            0.84   \n",
       "\n",
       "   USGS_streamflow  \n",
       "0             0.19  \n",
       "1             0.19  \n",
       "2             0.19  \n",
       "3             0.19  \n",
       "4             0.19  "
      ]
     },
     "metadata": {},
     "output_type": "display_data"
    },
    {
     "name": "stdout",
     "output_type": "stream",
     "text": [
      "Station 2 Data:\n"
     ]
    },
    {
     "data": {
      "text/html": [
       "<div>\n",
       "<style scoped>\n",
       "    .dataframe tbody tr th:only-of-type {\n",
       "        vertical-align: middle;\n",
       "    }\n",
       "\n",
       "    .dataframe tbody tr th {\n",
       "        vertical-align: top;\n",
       "    }\n",
       "\n",
       "    .dataframe thead th {\n",
       "        text-align: right;\n",
       "    }\n",
       "</style>\n",
       "<table border=\"1\" class=\"dataframe\">\n",
       "  <thead>\n",
       "    <tr style=\"text-align: right;\">\n",
       "      <th></th>\n",
       "      <th>model_initialization_time</th>\n",
       "      <th>model_output_valid_time</th>\n",
       "      <th>NWM_streamflow</th>\n",
       "      <th>USGS_streamflow</th>\n",
       "    </tr>\n",
       "  </thead>\n",
       "  <tbody>\n",
       "    <tr>\n",
       "      <th>0</th>\n",
       "      <td>2021-04-21 00:00:00</td>\n",
       "      <td>2021-04-21 01:00:00</td>\n",
       "      <td>30.729999</td>\n",
       "      <td>31.43</td>\n",
       "    </tr>\n",
       "    <tr>\n",
       "      <th>1</th>\n",
       "      <td>2021-04-21 00:00:00</td>\n",
       "      <td>2021-04-21 01:00:00</td>\n",
       "      <td>30.729999</td>\n",
       "      <td>31.15</td>\n",
       "    </tr>\n",
       "    <tr>\n",
       "      <th>2</th>\n",
       "      <td>2021-04-21 00:00:00</td>\n",
       "      <td>2021-04-21 01:00:00</td>\n",
       "      <td>30.729999</td>\n",
       "      <td>31.43</td>\n",
       "    </tr>\n",
       "    <tr>\n",
       "      <th>3</th>\n",
       "      <td>2021-04-21 00:00:00</td>\n",
       "      <td>2021-04-21 02:00:00</td>\n",
       "      <td>31.379999</td>\n",
       "      <td>31.15</td>\n",
       "    </tr>\n",
       "    <tr>\n",
       "      <th>4</th>\n",
       "      <td>2021-04-21 00:00:00</td>\n",
       "      <td>2021-04-21 02:00:00</td>\n",
       "      <td>31.379999</td>\n",
       "      <td>31.15</td>\n",
       "    </tr>\n",
       "  </tbody>\n",
       "</table>\n",
       "</div>"
      ],
      "text/plain": [
       "  model_initialization_time model_output_valid_time  NWM_streamflow  \\\n",
       "0       2021-04-21 00:00:00     2021-04-21 01:00:00       30.729999   \n",
       "1       2021-04-21 00:00:00     2021-04-21 01:00:00       30.729999   \n",
       "2       2021-04-21 00:00:00     2021-04-21 01:00:00       30.729999   \n",
       "3       2021-04-21 00:00:00     2021-04-21 02:00:00       31.379999   \n",
       "4       2021-04-21 00:00:00     2021-04-21 02:00:00       31.379999   \n",
       "\n",
       "   USGS_streamflow  \n",
       "0            31.43  \n",
       "1            31.15  \n",
       "2            31.43  \n",
       "3            31.15  \n",
       "4            31.15  "
      ]
     },
     "metadata": {},
     "output_type": "display_data"
    }
   ],
   "source": [
    "# Load the preprocessed data for Station 1 and Station 2\n",
    "station1_data = pd.read_csv('../data/processed/station1_processed.csv')\n",
    "station2_data = pd.read_csv('../data/processed/station2_processed.csv')\n",
    "\n",
    "# Display the first few rows of each dataset to understand their structure\n",
    "print(\"Station 1 Data:\")\n",
    "display(station1_data.head())\n",
    "\n",
    "print(\"Station 2 Data:\")\n",
    "display(station2_data.head())\n"
   ]
  },
  {
   "cell_type": "markdown",
   "id": "6dc085de",
   "metadata": {},
   "source": [
    "Handling Missing Data"
   ]
  },
  {
   "cell_type": "code",
   "execution_count": 4,
   "id": "8cc39f9a",
   "metadata": {},
   "outputs": [
    {
     "name": "stdout",
     "output_type": "stream",
     "text": [
      "Missing values in Station 1 Data:\n"
     ]
    },
    {
     "data": {
      "text/plain": [
       "model_initialization_time    0\n",
       "model_output_valid_time      0\n",
       "NWM_streamflow               5\n",
       "USGS_streamflow              0\n",
       "dtype: int64"
      ]
     },
     "metadata": {},
     "output_type": "display_data"
    },
    {
     "name": "stdout",
     "output_type": "stream",
     "text": [
      "Missing values in Station 2 Data:\n"
     ]
    },
    {
     "data": {
      "text/plain": [
       "model_initialization_time      0\n",
       "model_output_valid_time        0\n",
       "NWM_streamflow                 0\n",
       "USGS_streamflow              270\n",
       "dtype: int64"
      ]
     },
     "metadata": {},
     "output_type": "display_data"
    },
    {
     "name": "stderr",
     "output_type": "stream",
     "text": [
      "C:\\Users\\John Waugh\\AppData\\Local\\Temp\\ipykernel_11720\\3177331446.py:9: FutureWarning: DataFrame.fillna with 'method' is deprecated and will raise in a future version. Use obj.ffill() or obj.bfill() instead.\n",
      "  station1_data = station1_data.fillna(method='ffill')\n",
      "C:\\Users\\John Waugh\\AppData\\Local\\Temp\\ipykernel_11720\\3177331446.py:10: FutureWarning: DataFrame.fillna with 'method' is deprecated and will raise in a future version. Use obj.ffill() or obj.bfill() instead.\n",
      "  station2_data = station2_data.fillna(method='ffill')\n"
     ]
    },
    {
     "name": "stdout",
     "output_type": "stream",
     "text": [
      "Station 1 Data (after handling missing values):\n"
     ]
    },
    {
     "data": {
      "text/plain": [
       "model_initialization_time    0\n",
       "model_output_valid_time      0\n",
       "NWM_streamflow               0\n",
       "USGS_streamflow              0\n",
       "dtype: int64"
      ]
     },
     "metadata": {},
     "output_type": "display_data"
    },
    {
     "name": "stdout",
     "output_type": "stream",
     "text": [
      "Station 2 Data (after handling missing values):\n"
     ]
    },
    {
     "data": {
      "text/plain": [
       "model_initialization_time    0\n",
       "model_output_valid_time      0\n",
       "NWM_streamflow               0\n",
       "USGS_streamflow              0\n",
       "dtype: int64"
      ]
     },
     "metadata": {},
     "output_type": "display_data"
    }
   ],
   "source": [
    "# Check for missing values in both datasets\n",
    "print(\"Missing values in Station 1 Data:\")\n",
    "display(station1_data.isnull().sum())\n",
    "\n",
    "print(\"Missing values in Station 2 Data:\")\n",
    "display(station2_data.isnull().sum())\n",
    "\n",
    "# Handle missing values by filling them with appropriate strategies (e.g., forward fill, median, etc.)\n",
    "station1_data = station1_data.fillna(method='ffill')\n",
    "station2_data = station2_data.fillna(method='ffill')\n",
    "\n",
    "# Confirm that there are no more missing values\n",
    "print(\"Station 1 Data (after handling missing values):\")\n",
    "display(station1_data.isnull().sum())\n",
    "\n",
    "print(\"Station 2 Data (after handling missing values):\")\n",
    "display(station2_data.isnull().sum())\n"
   ]
  },
  {
   "cell_type": "markdown",
   "id": "e375ad03",
   "metadata": {},
   "source": [
    "Feature Engineering and Transformation"
   ]
  },
  {
   "cell_type": "code",
   "execution_count": 5,
   "id": "5d4dd813",
   "metadata": {},
   "outputs": [
    {
     "name": "stdout",
     "output_type": "stream",
     "text": [
      "Station 1 Data with extracted time features:\n"
     ]
    },
    {
     "data": {
      "text/html": [
       "<div>\n",
       "<style scoped>\n",
       "    .dataframe tbody tr th:only-of-type {\n",
       "        vertical-align: middle;\n",
       "    }\n",
       "\n",
       "    .dataframe tbody tr th {\n",
       "        vertical-align: top;\n",
       "    }\n",
       "\n",
       "    .dataframe thead th {\n",
       "        text-align: right;\n",
       "    }\n",
       "</style>\n",
       "<table border=\"1\" class=\"dataframe\">\n",
       "  <thead>\n",
       "    <tr style=\"text-align: right;\">\n",
       "      <th></th>\n",
       "      <th>model_initialization_time</th>\n",
       "      <th>model_output_valid_time</th>\n",
       "      <th>NWM_streamflow</th>\n",
       "      <th>USGS_streamflow</th>\n",
       "      <th>year</th>\n",
       "      <th>month</th>\n",
       "      <th>day</th>\n",
       "    </tr>\n",
       "  </thead>\n",
       "  <tbody>\n",
       "    <tr>\n",
       "      <th>0</th>\n",
       "      <td>2021-04-21</td>\n",
       "      <td>2021-04-21 01:00:00</td>\n",
       "      <td>0.45</td>\n",
       "      <td>0.19</td>\n",
       "      <td>2021</td>\n",
       "      <td>4</td>\n",
       "      <td>21</td>\n",
       "    </tr>\n",
       "    <tr>\n",
       "      <th>1</th>\n",
       "      <td>2021-04-21</td>\n",
       "      <td>2021-04-21 01:00:00</td>\n",
       "      <td>0.45</td>\n",
       "      <td>0.19</td>\n",
       "      <td>2021</td>\n",
       "      <td>4</td>\n",
       "      <td>21</td>\n",
       "    </tr>\n",
       "    <tr>\n",
       "      <th>2</th>\n",
       "      <td>2021-04-21</td>\n",
       "      <td>2021-04-21 01:00:00</td>\n",
       "      <td>0.45</td>\n",
       "      <td>0.19</td>\n",
       "      <td>2021</td>\n",
       "      <td>4</td>\n",
       "      <td>21</td>\n",
       "    </tr>\n",
       "    <tr>\n",
       "      <th>3</th>\n",
       "      <td>2021-04-21</td>\n",
       "      <td>2021-04-21 02:00:00</td>\n",
       "      <td>0.84</td>\n",
       "      <td>0.19</td>\n",
       "      <td>2021</td>\n",
       "      <td>4</td>\n",
       "      <td>21</td>\n",
       "    </tr>\n",
       "    <tr>\n",
       "      <th>4</th>\n",
       "      <td>2021-04-21</td>\n",
       "      <td>2021-04-21 02:00:00</td>\n",
       "      <td>0.84</td>\n",
       "      <td>0.19</td>\n",
       "      <td>2021</td>\n",
       "      <td>4</td>\n",
       "      <td>21</td>\n",
       "    </tr>\n",
       "  </tbody>\n",
       "</table>\n",
       "</div>"
      ],
      "text/plain": [
       "  model_initialization_time model_output_valid_time  NWM_streamflow  \\\n",
       "0                2021-04-21     2021-04-21 01:00:00            0.45   \n",
       "1                2021-04-21     2021-04-21 01:00:00            0.45   \n",
       "2                2021-04-21     2021-04-21 01:00:00            0.45   \n",
       "3                2021-04-21     2021-04-21 02:00:00            0.84   \n",
       "4                2021-04-21     2021-04-21 02:00:00            0.84   \n",
       "\n",
       "   USGS_streamflow  year  month  day  \n",
       "0             0.19  2021      4   21  \n",
       "1             0.19  2021      4   21  \n",
       "2             0.19  2021      4   21  \n",
       "3             0.19  2021      4   21  \n",
       "4             0.19  2021      4   21  "
      ]
     },
     "metadata": {},
     "output_type": "display_data"
    },
    {
     "name": "stdout",
     "output_type": "stream",
     "text": [
      "Station 2 Data with extracted time features:\n"
     ]
    },
    {
     "data": {
      "text/html": [
       "<div>\n",
       "<style scoped>\n",
       "    .dataframe tbody tr th:only-of-type {\n",
       "        vertical-align: middle;\n",
       "    }\n",
       "\n",
       "    .dataframe tbody tr th {\n",
       "        vertical-align: top;\n",
       "    }\n",
       "\n",
       "    .dataframe thead th {\n",
       "        text-align: right;\n",
       "    }\n",
       "</style>\n",
       "<table border=\"1\" class=\"dataframe\">\n",
       "  <thead>\n",
       "    <tr style=\"text-align: right;\">\n",
       "      <th></th>\n",
       "      <th>model_initialization_time</th>\n",
       "      <th>model_output_valid_time</th>\n",
       "      <th>NWM_streamflow</th>\n",
       "      <th>USGS_streamflow</th>\n",
       "      <th>year</th>\n",
       "      <th>month</th>\n",
       "      <th>day</th>\n",
       "    </tr>\n",
       "  </thead>\n",
       "  <tbody>\n",
       "    <tr>\n",
       "      <th>0</th>\n",
       "      <td>2021-04-21</td>\n",
       "      <td>2021-04-21 01:00:00</td>\n",
       "      <td>30.729999</td>\n",
       "      <td>31.43</td>\n",
       "      <td>2021</td>\n",
       "      <td>4</td>\n",
       "      <td>21</td>\n",
       "    </tr>\n",
       "    <tr>\n",
       "      <th>1</th>\n",
       "      <td>2021-04-21</td>\n",
       "      <td>2021-04-21 01:00:00</td>\n",
       "      <td>30.729999</td>\n",
       "      <td>31.15</td>\n",
       "      <td>2021</td>\n",
       "      <td>4</td>\n",
       "      <td>21</td>\n",
       "    </tr>\n",
       "    <tr>\n",
       "      <th>2</th>\n",
       "      <td>2021-04-21</td>\n",
       "      <td>2021-04-21 01:00:00</td>\n",
       "      <td>30.729999</td>\n",
       "      <td>31.43</td>\n",
       "      <td>2021</td>\n",
       "      <td>4</td>\n",
       "      <td>21</td>\n",
       "    </tr>\n",
       "    <tr>\n",
       "      <th>3</th>\n",
       "      <td>2021-04-21</td>\n",
       "      <td>2021-04-21 02:00:00</td>\n",
       "      <td>31.379999</td>\n",
       "      <td>31.15</td>\n",
       "      <td>2021</td>\n",
       "      <td>4</td>\n",
       "      <td>21</td>\n",
       "    </tr>\n",
       "    <tr>\n",
       "      <th>4</th>\n",
       "      <td>2021-04-21</td>\n",
       "      <td>2021-04-21 02:00:00</td>\n",
       "      <td>31.379999</td>\n",
       "      <td>31.15</td>\n",
       "      <td>2021</td>\n",
       "      <td>4</td>\n",
       "      <td>21</td>\n",
       "    </tr>\n",
       "  </tbody>\n",
       "</table>\n",
       "</div>"
      ],
      "text/plain": [
       "  model_initialization_time model_output_valid_time  NWM_streamflow  \\\n",
       "0                2021-04-21     2021-04-21 01:00:00       30.729999   \n",
       "1                2021-04-21     2021-04-21 01:00:00       30.729999   \n",
       "2                2021-04-21     2021-04-21 01:00:00       30.729999   \n",
       "3                2021-04-21     2021-04-21 02:00:00       31.379999   \n",
       "4                2021-04-21     2021-04-21 02:00:00       31.379999   \n",
       "\n",
       "   USGS_streamflow  year  month  day  \n",
       "0            31.43  2021      4   21  \n",
       "1            31.15  2021      4   21  \n",
       "2            31.43  2021      4   21  \n",
       "3            31.15  2021      4   21  \n",
       "4            31.15  2021      4   21  "
      ]
     },
     "metadata": {},
     "output_type": "display_data"
    }
   ],
   "source": [
    "# Convert datetime columns to pandas datetime format\n",
    "station1_data['model_output_valid_time'] = pd.to_datetime(station1_data['model_output_valid_time'])\n",
    "station1_data['model_initialization_time'] = pd.to_datetime(station1_data['model_initialization_time'])\n",
    "station2_data['model_output_valid_time'] = pd.to_datetime(station2_data['model_output_valid_time'])\n",
    "station2_data['model_initialization_time'] = pd.to_datetime(station2_data['model_initialization_time'])\n",
    "\n",
    "# Extract useful time features such as day, month, and year from the datetime column\n",
    "station1_data['year'] = station1_data['model_output_valid_time'].dt.year\n",
    "station1_data['month'] = station1_data['model_output_valid_time'].dt.month\n",
    "station1_data['day'] = station1_data['model_output_valid_time'].dt.day\n",
    "\n",
    "station2_data['year'] = station2_data['model_output_valid_time'].dt.year\n",
    "station2_data['month'] = station2_data['model_output_valid_time'].dt.month\n",
    "station2_data['day'] = station2_data['model_output_valid_time'].dt.day\n",
    "\n",
    "# Display the updated data with new features\n",
    "print(\"Station 1 Data with extracted time features:\")\n",
    "display(station1_data.head())\n",
    "\n",
    "print(\"Station 2 Data with extracted time features:\")\n",
    "display(station2_data.head())\n"
   ]
  },
  {
   "cell_type": "markdown",
   "id": "e17378aa",
   "metadata": {},
   "source": [
    "Merge Data for Model Input (Station Data + Forecast Data)"
   ]
  },
  {
   "cell_type": "code",
   "execution_count": 8,
   "id": "f9f5e63c",
   "metadata": {},
   "outputs": [
    {
     "name": "stdout",
     "output_type": "stream",
     "text": [
      "Station 1 Merged Data:\n",
      "  model_output_valid_time  NWM_streamflow  USGS_streamflow\n",
      "0     2021-04-21 01:00:00            0.45             0.19\n",
      "1     2021-04-21 01:00:00            0.45             0.19\n",
      "2     2021-04-21 01:00:00            0.45             0.19\n",
      "3     2021-04-21 01:00:00            0.45             0.19\n",
      "4     2021-04-21 01:00:00            0.45             0.19\n",
      "Station 2 Merged Data:\n",
      "  model_output_valid_time  NWM_streamflow  USGS_streamflow\n",
      "0     2021-04-21 01:00:00       30.729999            31.43\n",
      "1     2021-04-21 01:00:00       30.729999            31.15\n",
      "2     2021-04-21 01:00:00       30.729999            31.43\n",
      "3     2021-04-21 01:00:00       30.729999            31.43\n",
      "4     2021-04-21 01:00:00       30.729999            31.15\n"
     ]
    }
   ],
   "source": [
    "# Merge the USGS and NWM data for both stations on 'model_output_valid_time'\n",
    "station1_merged = pd.merge(station1_data[['model_output_valid_time', 'NWM_streamflow']], \n",
    "                            station1_data[['model_output_valid_time', 'USGS_streamflow']], \n",
    "                            on='model_output_valid_time', how='inner')\n",
    "\n",
    "station2_merged = pd.merge(station2_data[['model_output_valid_time', 'NWM_streamflow']], \n",
    "                            station2_data[['model_output_valid_time', 'USGS_streamflow']], \n",
    "                            on='model_output_valid_time', how='inner')\n",
    "\n",
    "# Check if the merge was successful and preview the merged data\n",
    "print(\"Station 1 Merged Data:\")\n",
    "print(station1_merged.head())\n",
    "\n",
    "print(\"Station 2 Merged Data:\")\n",
    "print(station2_merged.head())\n"
   ]
  },
  {
   "cell_type": "markdown",
   "id": "169107c0",
   "metadata": {},
   "source": [
    " Data Normalization and Scaling"
   ]
  },
  {
   "cell_type": "code",
   "execution_count": 9,
   "id": "3cdb1e30",
   "metadata": {},
   "outputs": [
    {
     "name": "stdout",
     "output_type": "stream",
     "text": [
      "Station 1 Normalized Data:\n"
     ]
    },
    {
     "data": {
      "text/html": [
       "<div>\n",
       "<style scoped>\n",
       "    .dataframe tbody tr th:only-of-type {\n",
       "        vertical-align: middle;\n",
       "    }\n",
       "\n",
       "    .dataframe tbody tr th {\n",
       "        vertical-align: top;\n",
       "    }\n",
       "\n",
       "    .dataframe thead th {\n",
       "        text-align: right;\n",
       "    }\n",
       "</style>\n",
       "<table border=\"1\" class=\"dataframe\">\n",
       "  <thead>\n",
       "    <tr style=\"text-align: right;\">\n",
       "      <th></th>\n",
       "      <th>model_output_valid_time</th>\n",
       "      <th>NWM_streamflow</th>\n",
       "      <th>USGS_streamflow</th>\n",
       "    </tr>\n",
       "  </thead>\n",
       "  <tbody>\n",
       "    <tr>\n",
       "      <th>0</th>\n",
       "      <td>2021-04-21 01:00:00</td>\n",
       "      <td>0.000196</td>\n",
       "      <td>0.034739</td>\n",
       "    </tr>\n",
       "    <tr>\n",
       "      <th>1</th>\n",
       "      <td>2021-04-21 01:00:00</td>\n",
       "      <td>0.000196</td>\n",
       "      <td>0.034739</td>\n",
       "    </tr>\n",
       "    <tr>\n",
       "      <th>2</th>\n",
       "      <td>2021-04-21 01:00:00</td>\n",
       "      <td>0.000196</td>\n",
       "      <td>0.034739</td>\n",
       "    </tr>\n",
       "    <tr>\n",
       "      <th>3</th>\n",
       "      <td>2021-04-21 01:00:00</td>\n",
       "      <td>0.000196</td>\n",
       "      <td>0.034739</td>\n",
       "    </tr>\n",
       "    <tr>\n",
       "      <th>4</th>\n",
       "      <td>2021-04-21 01:00:00</td>\n",
       "      <td>0.000196</td>\n",
       "      <td>0.034739</td>\n",
       "    </tr>\n",
       "  </tbody>\n",
       "</table>\n",
       "</div>"
      ],
      "text/plain": [
       "  model_output_valid_time  NWM_streamflow  USGS_streamflow\n",
       "0     2021-04-21 01:00:00        0.000196         0.034739\n",
       "1     2021-04-21 01:00:00        0.000196         0.034739\n",
       "2     2021-04-21 01:00:00        0.000196         0.034739\n",
       "3     2021-04-21 01:00:00        0.000196         0.034739\n",
       "4     2021-04-21 01:00:00        0.000196         0.034739"
      ]
     },
     "metadata": {},
     "output_type": "display_data"
    },
    {
     "name": "stdout",
     "output_type": "stream",
     "text": [
      "Station 2 Normalized Data:\n"
     ]
    },
    {
     "data": {
      "text/html": [
       "<div>\n",
       "<style scoped>\n",
       "    .dataframe tbody tr th:only-of-type {\n",
       "        vertical-align: middle;\n",
       "    }\n",
       "\n",
       "    .dataframe tbody tr th {\n",
       "        vertical-align: top;\n",
       "    }\n",
       "\n",
       "    .dataframe thead th {\n",
       "        text-align: right;\n",
       "    }\n",
       "</style>\n",
       "<table border=\"1\" class=\"dataframe\">\n",
       "  <thead>\n",
       "    <tr style=\"text-align: right;\">\n",
       "      <th></th>\n",
       "      <th>model_output_valid_time</th>\n",
       "      <th>NWM_streamflow</th>\n",
       "      <th>USGS_streamflow</th>\n",
       "    </tr>\n",
       "  </thead>\n",
       "  <tbody>\n",
       "    <tr>\n",
       "      <th>0</th>\n",
       "      <td>2021-04-21 01:00:00</td>\n",
       "      <td>0.236816</td>\n",
       "      <td>0.229462</td>\n",
       "    </tr>\n",
       "    <tr>\n",
       "      <th>1</th>\n",
       "      <td>2021-04-21 01:00:00</td>\n",
       "      <td>0.236816</td>\n",
       "      <td>0.227403</td>\n",
       "    </tr>\n",
       "    <tr>\n",
       "      <th>2</th>\n",
       "      <td>2021-04-21 01:00:00</td>\n",
       "      <td>0.236816</td>\n",
       "      <td>0.229462</td>\n",
       "    </tr>\n",
       "    <tr>\n",
       "      <th>3</th>\n",
       "      <td>2021-04-21 01:00:00</td>\n",
       "      <td>0.236816</td>\n",
       "      <td>0.229462</td>\n",
       "    </tr>\n",
       "    <tr>\n",
       "      <th>4</th>\n",
       "      <td>2021-04-21 01:00:00</td>\n",
       "      <td>0.236816</td>\n",
       "      <td>0.227403</td>\n",
       "    </tr>\n",
       "  </tbody>\n",
       "</table>\n",
       "</div>"
      ],
      "text/plain": [
       "  model_output_valid_time  NWM_streamflow  USGS_streamflow\n",
       "0     2021-04-21 01:00:00        0.236816         0.229462\n",
       "1     2021-04-21 01:00:00        0.236816         0.227403\n",
       "2     2021-04-21 01:00:00        0.236816         0.229462\n",
       "3     2021-04-21 01:00:00        0.236816         0.229462\n",
       "4     2021-04-21 01:00:00        0.236816         0.227403"
      ]
     },
     "metadata": {},
     "output_type": "display_data"
    }
   ],
   "source": [
    "# Normalize or scale the numerical features for better model performance\n",
    "from sklearn.preprocessing import MinMaxScaler\n",
    "\n",
    "scaler = MinMaxScaler()\n",
    "\n",
    "# Normalize the streamflow and other numeric columns\n",
    "station1_merged[['NWM_streamflow', 'USGS_streamflow']] = scaler.fit_transform(station1_merged[['NWM_streamflow', 'USGS_streamflow']])\n",
    "station2_merged[['NWM_streamflow', 'USGS_streamflow']] = scaler.fit_transform(station2_merged[['NWM_streamflow', 'USGS_streamflow']])\n",
    "\n",
    "# Display the normalized data\n",
    "print(\"Station 1 Normalized Data:\")\n",
    "display(station1_merged.head())\n",
    "\n",
    "print(\"Station 2 Normalized Data:\")\n",
    "display(station2_merged.head())\n"
   ]
  },
  {
   "cell_type": "markdown",
   "id": "e2fe9dcd",
   "metadata": {},
   "source": [
    "Split Data into Training and Testing Sets"
   ]
  },
  {
   "cell_type": "code",
   "execution_count": 11,
   "id": "8dbe4304",
   "metadata": {},
   "outputs": [
    {
     "name": "stdout",
     "output_type": "stream",
     "text": [
      "Station 1 - Training set shape: (83954373, 4), Test set shape: (20988594, 4)\n",
      "Station 2 - Training set shape: (78324279, 4), Test set shape: (19581070, 4)\n"
     ]
    }
   ],
   "source": [
    "# Step 1: Extract Year, Month, and Day from 'model_output_valid_time'\n",
    "station1_merged['year'] = station1_merged['model_output_valid_time'].dt.year\n",
    "station1_merged['month'] = station1_merged['model_output_valid_time'].dt.month\n",
    "station1_merged['day'] = station1_merged['model_output_valid_time'].dt.day\n",
    "\n",
    "station2_merged['year'] = station2_merged['model_output_valid_time'].dt.year\n",
    "station2_merged['month'] = station2_merged['model_output_valid_time'].dt.month\n",
    "station2_merged['day'] = station2_merged['model_output_valid_time'].dt.day\n",
    "\n",
    "# Step 2: Prepare features (X) and target variable (y) for model training\n",
    "X_station1 = station1_merged[['NWM_streamflow', 'year', 'month', 'day']]  # Example features\n",
    "y_station1 = station1_merged['USGS_streamflow']  # Target variable\n",
    "\n",
    "X_station2 = station2_merged[['NWM_streamflow', 'year', 'month', 'day']]  # Example features\n",
    "y_station2 = station2_merged['USGS_streamflow']  # Target variable\n",
    "\n",
    "# Split the data into training and testing sets\n",
    "X_train1, X_test1, y_train1, y_test1 = train_test_split(X_station1, y_station1, test_size=0.2, random_state=42)\n",
    "X_train2, X_test2, y_train2, y_test2 = train_test_split(X_station2, y_station2, test_size=0.2, random_state=42)\n",
    "\n",
    "# Display the shape of the resulting splits\n",
    "print(f\"Station 1 - Training set shape: {X_train1.shape}, Test set shape: {X_test1.shape}\")\n",
    "print(f\"Station 2 - Training set shape: {X_train2.shape}, Test set shape: {X_test2.shape}\")\n"
   ]
  },
  {
   "cell_type": "markdown",
   "id": "59657781",
   "metadata": {},
   "source": [
    "Save Processed Data for Model Training"
   ]
  },
  {
   "cell_type": "code",
   "execution_count": 14,
   "id": "8f5b3072",
   "metadata": {},
   "outputs": [
    {
     "name": "stdout",
     "output_type": "stream",
     "text": [
      "Processed data saved for Station 1 and Station 2 (Parquet format).\n"
     ]
    }
   ],
   "source": [
    "# Save the processed data for further use (as Parquet files for speed and size efficiency)\n",
    "station1_merged.to_parquet('../data/processed/station1_final_processed.parquet', index=False)\n",
    "station2_merged.to_parquet('../data/processed/station2_final_processed.parquet', index=False)\n",
    "\n",
    "print(\"Processed data saved for Station 1 and Station 2 (Parquet format).\")"
   ]
  },
  {
   "cell_type": "markdown",
   "id": "be3e29b0",
   "metadata": {},
   "source": [
    "Summary"
   ]
  },
  {
   "cell_type": "code",
   "execution_count": null,
   "id": "c43b1170",
   "metadata": {},
   "outputs": [],
   "source": [
    "# Provide a brief summary of the preprocessing\n",
    "print(\"Data Preprocessing Completed!\")\n",
    "print(\"Features and target variable are ready for training.\")\n"
   ]
  }
 ],
 "metadata": {
  "kernelspec": {
   "display_name": "Python 3",
   "language": "python",
   "name": "python3"
  },
  "language_info": {
   "codemirror_mode": {
    "name": "ipython",
    "version": 3
   },
   "file_extension": ".py",
   "mimetype": "text/x-python",
   "name": "python",
   "nbconvert_exporter": "python",
   "pygments_lexer": "ipython3",
   "version": "3.10.2"
  }
 },
 "nbformat": 4,
 "nbformat_minor": 5
}
