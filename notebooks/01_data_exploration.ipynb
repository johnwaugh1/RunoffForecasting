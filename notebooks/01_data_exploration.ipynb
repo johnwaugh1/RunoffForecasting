{
 "cells": [
  {
   "cell_type": "code",
   "execution_count": 1,
   "metadata": {},
   "outputs": [],
   "source": [
    "import sys\n",
    "import os\n",
    "import pandas as pd\n",
    "import numpy as np\n",
    "import matplotlib.pyplot as plt\n",
    "import seaborn as sns\n",
    "import pickle"
   ]
  },
  {
   "cell_type": "markdown",
   "metadata": {},
   "source": [
    "Add the src directory to the path so we can import our modules"
   ]
  },
  {
   "cell_type": "code",
   "execution_count": 2,
   "metadata": {},
   "outputs": [],
   "source": [
    "sys.path.append(os.path.abspath('../src'))\n",
    "\n",
    "from data_utils import load_usgs_data, load_nwm_forecasts"
   ]
  },
  {
   "cell_type": "markdown",
   "metadata": {},
   "source": [
    "Set paths to data folders"
   ]
  },
  {
   "cell_type": "code",
   "execution_count": 3,
   "metadata": {},
   "outputs": [],
   "source": [
    "data_path = \"../data\"\n",
    "stations = [\"station1\", \"station2\"]"
   ]
  },
  {
   "cell_type": "markdown",
   "metadata": {},
   "source": [
    "Dictionary to store data for each station"
   ]
  },
  {
   "cell_type": "code",
   "execution_count": 4,
   "metadata": {},
   "outputs": [],
   "source": [
    "station_data = {}"
   ]
  },
  {
   "cell_type": "markdown",
   "metadata": {},
   "source": [
    "Load data for each station"
   ]
  },
  {
   "cell_type": "code",
   "execution_count": 5,
   "metadata": {},
   "outputs": [
    {
     "name": "stdout",
     "output_type": "stream",
     "text": [
      "Loading data for station1...\n",
      "  USGS data loaded: 70089 observations\n",
      "  NWM data loaded: 326160 forecast points\n",
      "Loading data for station2...\n",
      "  USGS data loaded: 65498 observations\n",
      "  NWM data loaded: 326160 forecast points\n",
      "Data loading complete!\n"
     ]
    }
   ],
   "source": [
    "for station in stations:\n",
    "    station_path = os.path.join(data_path, station)\n",
    "    \n",
    "    print(f\"Loading data for {station}...\")\n",
    "    \n",
    "    # Load USGS data\n",
    "    try:\n",
    "        usgs_data = load_usgs_data(station_path)\n",
    "        print(f\"  USGS data loaded: {len(usgs_data)} observations\")\n",
    "    except Exception as e:\n",
    "        print(f\"  Error loading USGS data: {e}\")\n",
    "        continue\n",
    "    \n",
    "    # Load NWM forecasts\n",
    "    try:\n",
    "        nwm_data = load_nwm_forecasts(station_path)\n",
    "        print(f\"  NWM data loaded: {len(nwm_data)} forecast points\")\n",
    "    except Exception as e:\n",
    "        print(f\"  Error loading NWM forecasts: {e}\")\n",
    "        continue\n",
    "    \n",
    "    # Store data for this station\n",
    "    station_data[station] = {\n",
    "        'usgs': usgs_data,\n",
    "        'nwm': nwm_data\n",
    "    }\n",
    "\n",
    "print(\"Data loading complete!\")"
   ]
  },
  {
   "cell_type": "markdown",
   "metadata": {},
   "source": [
    "Save processed data"
   ]
  },
  {
   "cell_type": "code",
   "execution_count": 6,
   "metadata": {},
   "outputs": [
    {
     "name": "stdout",
     "output_type": "stream",
     "text": [
      "Data saved to '../data/processed/station_data.pkl'\n"
     ]
    }
   ],
   "source": [
    "os.makedirs('../data/processed', exist_ok=True)\n",
    "\n",
    "with open('../data/processed/station_data.pkl', 'wb') as f:\n",
    "    pickle.dump(station_data, f)\n",
    "\n",
    "print(\"Data saved to '../data/processed/station_data.pkl'\")"
   ]
  }
 ],
 "metadata": {
  "kernelspec": {
   "display_name": "Python 3",
   "language": "python",
   "name": "python3"
  },
  "language_info": {
   "codemirror_mode": {
    "name": "ipython",
    "version": 3
   },
   "file_extension": ".py",
   "mimetype": "text/x-python",
   "name": "python",
   "nbconvert_exporter": "python",
   "pygments_lexer": "ipython3",
   "version": "3.10.2"
  }
 },
 "nbformat": 4,
 "nbformat_minor": 2
}
